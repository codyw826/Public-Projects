{
 "cells": [
  {
   "cell_type": "code",
   "execution_count": 5,
   "metadata": {
    "collapsed": true
   },
   "outputs": [],
   "source": [
    "#Python Notebook for Exploratory Analysis on NSDUH dataset\n",
    "%matplotlib inline\n",
    "import pandas as pd\n",
    "import numpy as np\n",
    "import matplotlib.pyplot as plt\n",
    "import csv"
   ]
  },
  {
   "cell_type": "code",
   "execution_count": 6,
   "metadata": {
    "collapsed": true
   },
   "outputs": [],
   "source": [
    "#1.Look at summary statistics for both types of diagnostic variables, and identify the response variables for seeking treatment. \n",
    "#Mental Health: Among those who are coded SPDYR = 1(subsample of 5696), \n",
    "#find predictors of AMHTXRC3 = 1(received any mental health trt past year)\n",
    "\n",
    "#SPDYR is grouping var, AMHTXRC3 is response var, others are possible predictors\n",
    "#AMHSVTYP(type of mental health treatment received in past year: coded 1-8) see pg 450(484)\n",
    "#AMHTXND2(perceived need for mental health treatment in past year: . is unknown, 1 yes, 2 no)\n",
    "mdiag_cols = ['CASEID','AMHTXRC3','AMHSVTYP','AMHTXND2','SPDYR','SPDMON','K6SCYR','K6SCMON','K6SCMAX','WHODASC2',\n",
    "              'SMIPP_U','AMDELT','AMDEYR','ATXMDEYR','ARXMDEYR','IRINSUR4','GOVTPROG',\n",
    "              'INCOME','POVERTY2','IRSEX','IRMARIT','HEALTH2','CATAG3','NEWRACE2','EDUCCAT2']\n",
    "Mental_Diagnostics = pd.read_csv('C:/Users/Cody/Downloads/NSDUH/2014/NSDUH-2014-DS0001-data/NSDUH-2014-DS0001-data-excel.tsv',usecols=mdiag_cols, sep='\\t', index_col=0)"
   ]
  },
  {
   "cell_type": "code",
   "execution_count": 7,
   "metadata": {
    "collapsed": false
   },
   "outputs": [
    {
     "data": {
      "text/html": [
       "<div>\n",
       "<table border=\"1\" class=\"dataframe\">\n",
       "  <thead>\n",
       "    <tr style=\"text-align: right;\">\n",
       "      <th></th>\n",
       "      <th>AMHTXRC3</th>\n",
       "      <th>AMHSVTYP</th>\n",
       "      <th>AMHTXND2</th>\n",
       "      <th>K6SCMON</th>\n",
       "      <th>SPDMON</th>\n",
       "      <th>K6SCYR</th>\n",
       "      <th>K6SCMAX</th>\n",
       "      <th>SPDYR</th>\n",
       "      <th>WHODASC2</th>\n",
       "      <th>SMIPP_U</th>\n",
       "      <th>...</th>\n",
       "      <th>GOVTPROG</th>\n",
       "      <th>INCOME</th>\n",
       "      <th>POVERTY2</th>\n",
       "      <th>IRINSUR4</th>\n",
       "      <th>IRSEX</th>\n",
       "      <th>IRMARIT</th>\n",
       "      <th>CATAG3</th>\n",
       "      <th>NEWRACE2</th>\n",
       "      <th>EDUCCAT2</th>\n",
       "      <th>HEALTH2</th>\n",
       "    </tr>\n",
       "  </thead>\n",
       "  <tbody>\n",
       "    <tr>\n",
       "      <th>count</th>\n",
       "      <td>55271.000000</td>\n",
       "      <td>55271.000000</td>\n",
       "      <td>55271.000000</td>\n",
       "      <td>55271.000000</td>\n",
       "      <td>55271.000000</td>\n",
       "      <td>55271.000000</td>\n",
       "      <td>55271.000000</td>\n",
       "      <td>55271.000000</td>\n",
       "      <td>55271.000000</td>\n",
       "      <td>55271.000000</td>\n",
       "      <td>...</td>\n",
       "      <td>55271.000000</td>\n",
       "      <td>55271.000000</td>\n",
       "      <td>55271.000000</td>\n",
       "      <td>55271.000000</td>\n",
       "      <td>55271.000000</td>\n",
       "      <td>55271.000000</td>\n",
       "      <td>55271.000000</td>\n",
       "      <td>55271.000000</td>\n",
       "      <td>55271.000000</td>\n",
       "      <td>55271.000000</td>\n",
       "    </tr>\n",
       "    <tr>\n",
       "      <th>mean</th>\n",
       "      <td>-0.860451</td>\n",
       "      <td>3.280075</td>\n",
       "      <td>-0.790270</td>\n",
       "      <td>1.017568</td>\n",
       "      <td>-2.167158</td>\n",
       "      <td>-4.242044</td>\n",
       "      <td>1.975123</td>\n",
       "      <td>-2.111487</td>\n",
       "      <td>0.792278</td>\n",
       "      <td>-2.181120</td>\n",
       "      <td>...</td>\n",
       "      <td>1.760164</td>\n",
       "      <td>2.585027</td>\n",
       "      <td>2.277343</td>\n",
       "      <td>1.121854</td>\n",
       "      <td>1.523765</td>\n",
       "      <td>14.387925</td>\n",
       "      <td>2.799533</td>\n",
       "      <td>2.551682</td>\n",
       "      <td>3.270504</td>\n",
       "      <td>2.182428</td>\n",
       "    </tr>\n",
       "    <tr>\n",
       "      <th>std</th>\n",
       "      <td>4.706729</td>\n",
       "      <td>7.232871</td>\n",
       "      <td>4.735816</td>\n",
       "      <td>6.948001</td>\n",
       "      <td>3.909216</td>\n",
       "      <td>8.867231</td>\n",
       "      <td>8.063145</td>\n",
       "      <td>3.946625</td>\n",
       "      <td>7.296613</td>\n",
       "      <td>3.897089</td>\n",
       "      <td>...</td>\n",
       "      <td>0.426987</td>\n",
       "      <td>1.138994</td>\n",
       "      <td>1.358044</td>\n",
       "      <td>0.327120</td>\n",
       "      <td>0.499439</td>\n",
       "      <td>31.407447</td>\n",
       "      <td>1.426004</td>\n",
       "      <td>2.366211</td>\n",
       "      <td>1.324381</td>\n",
       "      <td>0.952305</td>\n",
       "    </tr>\n",
       "    <tr>\n",
       "      <th>min</th>\n",
       "      <td>-9.000000</td>\n",
       "      <td>-9.000000</td>\n",
       "      <td>-9.000000</td>\n",
       "      <td>-9.000000</td>\n",
       "      <td>-9.000000</td>\n",
       "      <td>-9.000000</td>\n",
       "      <td>-9.000000</td>\n",
       "      <td>-9.000000</td>\n",
       "      <td>-9.000000</td>\n",
       "      <td>-9.000000</td>\n",
       "      <td>...</td>\n",
       "      <td>1.000000</td>\n",
       "      <td>1.000000</td>\n",
       "      <td>-9.000000</td>\n",
       "      <td>1.000000</td>\n",
       "      <td>1.000000</td>\n",
       "      <td>1.000000</td>\n",
       "      <td>1.000000</td>\n",
       "      <td>1.000000</td>\n",
       "      <td>1.000000</td>\n",
       "      <td>-9.000000</td>\n",
       "    </tr>\n",
       "    <tr>\n",
       "      <th>25%</th>\n",
       "      <td>1.000000</td>\n",
       "      <td>-9.000000</td>\n",
       "      <td>1.000000</td>\n",
       "      <td>0.000000</td>\n",
       "      <td>0.000000</td>\n",
       "      <td>-9.000000</td>\n",
       "      <td>0.000000</td>\n",
       "      <td>0.000000</td>\n",
       "      <td>0.000000</td>\n",
       "      <td>0.002541</td>\n",
       "      <td>...</td>\n",
       "      <td>2.000000</td>\n",
       "      <td>2.000000</td>\n",
       "      <td>2.000000</td>\n",
       "      <td>1.000000</td>\n",
       "      <td>1.000000</td>\n",
       "      <td>1.000000</td>\n",
       "      <td>2.000000</td>\n",
       "      <td>1.000000</td>\n",
       "      <td>2.000000</td>\n",
       "      <td>1.000000</td>\n",
       "    </tr>\n",
       "    <tr>\n",
       "      <th>50%</th>\n",
       "      <td>2.000000</td>\n",
       "      <td>8.000000</td>\n",
       "      <td>2.000000</td>\n",
       "      <td>2.000000</td>\n",
       "      <td>0.000000</td>\n",
       "      <td>-9.000000</td>\n",
       "      <td>2.000000</td>\n",
       "      <td>0.000000</td>\n",
       "      <td>0.000000</td>\n",
       "      <td>0.008998</td>\n",
       "      <td>...</td>\n",
       "      <td>2.000000</td>\n",
       "      <td>2.000000</td>\n",
       "      <td>3.000000</td>\n",
       "      <td>1.000000</td>\n",
       "      <td>2.000000</td>\n",
       "      <td>4.000000</td>\n",
       "      <td>3.000000</td>\n",
       "      <td>1.000000</td>\n",
       "      <td>3.000000</td>\n",
       "      <td>2.000000</td>\n",
       "    </tr>\n",
       "    <tr>\n",
       "      <th>75%</th>\n",
       "      <td>2.000000</td>\n",
       "      <td>8.000000</td>\n",
       "      <td>2.000000</td>\n",
       "      <td>5.000000</td>\n",
       "      <td>0.000000</td>\n",
       "      <td>-9.000000</td>\n",
       "      <td>6.000000</td>\n",
       "      <td>0.000000</td>\n",
       "      <td>4.000000</td>\n",
       "      <td>0.008998</td>\n",
       "      <td>...</td>\n",
       "      <td>2.000000</td>\n",
       "      <td>4.000000</td>\n",
       "      <td>3.000000</td>\n",
       "      <td>1.000000</td>\n",
       "      <td>2.000000</td>\n",
       "      <td>4.000000</td>\n",
       "      <td>4.000000</td>\n",
       "      <td>5.000000</td>\n",
       "      <td>4.000000</td>\n",
       "      <td>3.000000</td>\n",
       "    </tr>\n",
       "    <tr>\n",
       "      <th>max</th>\n",
       "      <td>2.000000</td>\n",
       "      <td>8.000000</td>\n",
       "      <td>2.000000</td>\n",
       "      <td>24.000000</td>\n",
       "      <td>1.000000</td>\n",
       "      <td>24.000000</td>\n",
       "      <td>24.000000</td>\n",
       "      <td>1.000000</td>\n",
       "      <td>24.000000</td>\n",
       "      <td>0.929121</td>\n",
       "      <td>...</td>\n",
       "      <td>2.000000</td>\n",
       "      <td>4.000000</td>\n",
       "      <td>3.000000</td>\n",
       "      <td>2.000000</td>\n",
       "      <td>2.000000</td>\n",
       "      <td>99.000000</td>\n",
       "      <td>5.000000</td>\n",
       "      <td>7.000000</td>\n",
       "      <td>5.000000</td>\n",
       "      <td>4.000000</td>\n",
       "    </tr>\n",
       "  </tbody>\n",
       "</table>\n",
       "<p>8 rows × 24 columns</p>\n",
       "</div>"
      ],
      "text/plain": [
       "           AMHTXRC3      AMHSVTYP      AMHTXND2       K6SCMON        SPDMON  \\\n",
       "count  55271.000000  55271.000000  55271.000000  55271.000000  55271.000000   \n",
       "mean      -0.860451      3.280075     -0.790270      1.017568     -2.167158   \n",
       "std        4.706729      7.232871      4.735816      6.948001      3.909216   \n",
       "min       -9.000000     -9.000000     -9.000000     -9.000000     -9.000000   \n",
       "25%        1.000000     -9.000000      1.000000      0.000000      0.000000   \n",
       "50%        2.000000      8.000000      2.000000      2.000000      0.000000   \n",
       "75%        2.000000      8.000000      2.000000      5.000000      0.000000   \n",
       "max        2.000000      8.000000      2.000000     24.000000      1.000000   \n",
       "\n",
       "             K6SCYR       K6SCMAX         SPDYR      WHODASC2       SMIPP_U  \\\n",
       "count  55271.000000  55271.000000  55271.000000  55271.000000  55271.000000   \n",
       "mean      -4.242044      1.975123     -2.111487      0.792278     -2.181120   \n",
       "std        8.867231      8.063145      3.946625      7.296613      3.897089   \n",
       "min       -9.000000     -9.000000     -9.000000     -9.000000     -9.000000   \n",
       "25%       -9.000000      0.000000      0.000000      0.000000      0.002541   \n",
       "50%       -9.000000      2.000000      0.000000      0.000000      0.008998   \n",
       "75%       -9.000000      6.000000      0.000000      4.000000      0.008998   \n",
       "max       24.000000     24.000000      1.000000     24.000000      0.929121   \n",
       "\n",
       "           ...           GOVTPROG        INCOME      POVERTY2      IRINSUR4  \\\n",
       "count      ...       55271.000000  55271.000000  55271.000000  55271.000000   \n",
       "mean       ...           1.760164      2.585027      2.277343      1.121854   \n",
       "std        ...           0.426987      1.138994      1.358044      0.327120   \n",
       "min        ...           1.000000      1.000000     -9.000000      1.000000   \n",
       "25%        ...           2.000000      2.000000      2.000000      1.000000   \n",
       "50%        ...           2.000000      2.000000      3.000000      1.000000   \n",
       "75%        ...           2.000000      4.000000      3.000000      1.000000   \n",
       "max        ...           2.000000      4.000000      3.000000      2.000000   \n",
       "\n",
       "              IRSEX       IRMARIT        CATAG3      NEWRACE2      EDUCCAT2  \\\n",
       "count  55271.000000  55271.000000  55271.000000  55271.000000  55271.000000   \n",
       "mean       1.523765     14.387925      2.799533      2.551682      3.270504   \n",
       "std        0.499439     31.407447      1.426004      2.366211      1.324381   \n",
       "min        1.000000      1.000000      1.000000      1.000000      1.000000   \n",
       "25%        1.000000      1.000000      2.000000      1.000000      2.000000   \n",
       "50%        2.000000      4.000000      3.000000      1.000000      3.000000   \n",
       "75%        2.000000      4.000000      4.000000      5.000000      4.000000   \n",
       "max        2.000000     99.000000      5.000000      7.000000      5.000000   \n",
       "\n",
       "            HEALTH2  \n",
       "count  55271.000000  \n",
       "mean       2.182428  \n",
       "std        0.952305  \n",
       "min       -9.000000  \n",
       "25%        1.000000  \n",
       "50%        2.000000  \n",
       "75%        3.000000  \n",
       "max        4.000000  \n",
       "\n",
       "[8 rows x 24 columns]"
      ]
     },
     "execution_count": 7,
     "metadata": {},
     "output_type": "execute_result"
    }
   ],
   "source": [
    "Mental_Diagnostics.describe()"
   ]
  },
  {
   "cell_type": "code",
   "execution_count": 8,
   "metadata": {
    "collapsed": false
   },
   "outputs": [
    {
     "data": {
      "text/html": [
       "<div>\n",
       "<table border=\"1\" class=\"dataframe\">\n",
       "  <thead>\n",
       "    <tr style=\"text-align: right;\">\n",
       "      <th></th>\n",
       "      <th>AMHTXRC3</th>\n",
       "      <th>AMHSVTYP</th>\n",
       "      <th>AMHTXND2</th>\n",
       "      <th>K6SCMON</th>\n",
       "      <th>SPDMON</th>\n",
       "      <th>K6SCYR</th>\n",
       "      <th>K6SCMAX</th>\n",
       "      <th>SPDYR</th>\n",
       "      <th>WHODASC2</th>\n",
       "      <th>SMIPP_U</th>\n",
       "      <th>...</th>\n",
       "      <th>GOVTPROG</th>\n",
       "      <th>INCOME</th>\n",
       "      <th>POVERTY2</th>\n",
       "      <th>IRINSUR4</th>\n",
       "      <th>IRSEX</th>\n",
       "      <th>IRMARIT</th>\n",
       "      <th>CATAG3</th>\n",
       "      <th>NEWRACE2</th>\n",
       "      <th>EDUCCAT2</th>\n",
       "      <th>HEALTH2</th>\n",
       "    </tr>\n",
       "  </thead>\n",
       "  <tbody>\n",
       "    <tr>\n",
       "      <th>count</th>\n",
       "      <td>41466.000000</td>\n",
       "      <td>41427.000000</td>\n",
       "      <td>41492.000000</td>\n",
       "      <td>41671.000000</td>\n",
       "      <td>41671.000000</td>\n",
       "      <td>13632.000000</td>\n",
       "      <td>41671.000000</td>\n",
       "      <td>41671.000000</td>\n",
       "      <td>41671.000000</td>\n",
       "      <td>41671.000000</td>\n",
       "      <td>...</td>\n",
       "      <td>55271.000000</td>\n",
       "      <td>55271.000000</td>\n",
       "      <td>54751.000000</td>\n",
       "      <td>55271.000000</td>\n",
       "      <td>55271.000000</td>\n",
       "      <td>48588.000000</td>\n",
       "      <td>55271.000000</td>\n",
       "      <td>55271.000000</td>\n",
       "      <td>55271.000000</td>\n",
       "      <td>55251.000000</td>\n",
       "    </tr>\n",
       "    <tr>\n",
       "      <th>mean</th>\n",
       "      <td>0.150605</td>\n",
       "      <td>7.383808</td>\n",
       "      <td>0.063916</td>\n",
       "      <td>4.286962</td>\n",
       "      <td>0.062849</td>\n",
       "      <td>10.291153</td>\n",
       "      <td>5.557030</td>\n",
       "      <td>0.136690</td>\n",
       "      <td>3.988145</td>\n",
       "      <td>0.044330</td>\n",
       "      <td>...</td>\n",
       "      <td>0.239836</td>\n",
       "      <td>2.585027</td>\n",
       "      <td>2.384450</td>\n",
       "      <td>0.878146</td>\n",
       "      <td>0.476235</td>\n",
       "      <td>2.750021</td>\n",
       "      <td>2.799533</td>\n",
       "      <td>2.551682</td>\n",
       "      <td>3.270504</td>\n",
       "      <td>2.186476</td>\n",
       "    </tr>\n",
       "    <tr>\n",
       "      <th>std</th>\n",
       "      <td>0.357668</td>\n",
       "      <td>1.600248</td>\n",
       "      <td>0.244606</td>\n",
       "      <td>4.537507</td>\n",
       "      <td>0.242695</td>\n",
       "      <td>6.199324</td>\n",
       "      <td>5.838672</td>\n",
       "      <td>0.343524</td>\n",
       "      <td>5.395138</td>\n",
       "      <td>0.125902</td>\n",
       "      <td>...</td>\n",
       "      <td>0.426987</td>\n",
       "      <td>1.138994</td>\n",
       "      <td>0.801514</td>\n",
       "      <td>0.327120</td>\n",
       "      <td>0.499439</td>\n",
       "      <td>1.391708</td>\n",
       "      <td>1.426004</td>\n",
       "      <td>2.366211</td>\n",
       "      <td>1.324381</td>\n",
       "      <td>0.928403</td>\n",
       "    </tr>\n",
       "    <tr>\n",
       "      <th>min</th>\n",
       "      <td>0.000000</td>\n",
       "      <td>1.000000</td>\n",
       "      <td>0.000000</td>\n",
       "      <td>0.000000</td>\n",
       "      <td>0.000000</td>\n",
       "      <td>0.000000</td>\n",
       "      <td>0.000000</td>\n",
       "      <td>0.000000</td>\n",
       "      <td>0.000000</td>\n",
       "      <td>0.002541</td>\n",
       "      <td>...</td>\n",
       "      <td>0.000000</td>\n",
       "      <td>1.000000</td>\n",
       "      <td>1.000000</td>\n",
       "      <td>0.000000</td>\n",
       "      <td>0.000000</td>\n",
       "      <td>1.000000</td>\n",
       "      <td>1.000000</td>\n",
       "      <td>1.000000</td>\n",
       "      <td>1.000000</td>\n",
       "      <td>1.000000</td>\n",
       "    </tr>\n",
       "    <tr>\n",
       "      <th>25%</th>\n",
       "      <td>0.000000</td>\n",
       "      <td>8.000000</td>\n",
       "      <td>0.000000</td>\n",
       "      <td>1.000000</td>\n",
       "      <td>0.000000</td>\n",
       "      <td>5.000000</td>\n",
       "      <td>1.000000</td>\n",
       "      <td>0.000000</td>\n",
       "      <td>0.000000</td>\n",
       "      <td>0.007445</td>\n",
       "      <td>...</td>\n",
       "      <td>0.000000</td>\n",
       "      <td>2.000000</td>\n",
       "      <td>2.000000</td>\n",
       "      <td>1.000000</td>\n",
       "      <td>0.000000</td>\n",
       "      <td>1.000000</td>\n",
       "      <td>2.000000</td>\n",
       "      <td>1.000000</td>\n",
       "      <td>2.000000</td>\n",
       "      <td>1.000000</td>\n",
       "    </tr>\n",
       "    <tr>\n",
       "      <th>50%</th>\n",
       "      <td>0.000000</td>\n",
       "      <td>8.000000</td>\n",
       "      <td>0.000000</td>\n",
       "      <td>3.000000</td>\n",
       "      <td>0.000000</td>\n",
       "      <td>10.000000</td>\n",
       "      <td>4.000000</td>\n",
       "      <td>0.000000</td>\n",
       "      <td>1.000000</td>\n",
       "      <td>0.008998</td>\n",
       "      <td>...</td>\n",
       "      <td>0.000000</td>\n",
       "      <td>2.000000</td>\n",
       "      <td>3.000000</td>\n",
       "      <td>1.000000</td>\n",
       "      <td>0.000000</td>\n",
       "      <td>4.000000</td>\n",
       "      <td>3.000000</td>\n",
       "      <td>1.000000</td>\n",
       "      <td>3.000000</td>\n",
       "      <td>2.000000</td>\n",
       "    </tr>\n",
       "    <tr>\n",
       "      <th>75%</th>\n",
       "      <td>0.000000</td>\n",
       "      <td>8.000000</td>\n",
       "      <td>0.000000</td>\n",
       "      <td>6.000000</td>\n",
       "      <td>0.000000</td>\n",
       "      <td>15.000000</td>\n",
       "      <td>8.000000</td>\n",
       "      <td>0.000000</td>\n",
       "      <td>6.000000</td>\n",
       "      <td>0.012713</td>\n",
       "      <td>...</td>\n",
       "      <td>0.000000</td>\n",
       "      <td>4.000000</td>\n",
       "      <td>3.000000</td>\n",
       "      <td>1.000000</td>\n",
       "      <td>1.000000</td>\n",
       "      <td>4.000000</td>\n",
       "      <td>4.000000</td>\n",
       "      <td>5.000000</td>\n",
       "      <td>4.000000</td>\n",
       "      <td>3.000000</td>\n",
       "    </tr>\n",
       "    <tr>\n",
       "      <th>max</th>\n",
       "      <td>1.000000</td>\n",
       "      <td>8.000000</td>\n",
       "      <td>1.000000</td>\n",
       "      <td>24.000000</td>\n",
       "      <td>1.000000</td>\n",
       "      <td>24.000000</td>\n",
       "      <td>24.000000</td>\n",
       "      <td>1.000000</td>\n",
       "      <td>24.000000</td>\n",
       "      <td>0.929121</td>\n",
       "      <td>...</td>\n",
       "      <td>1.000000</td>\n",
       "      <td>4.000000</td>\n",
       "      <td>3.000000</td>\n",
       "      <td>1.000000</td>\n",
       "      <td>1.000000</td>\n",
       "      <td>4.000000</td>\n",
       "      <td>5.000000</td>\n",
       "      <td>7.000000</td>\n",
       "      <td>5.000000</td>\n",
       "      <td>4.000000</td>\n",
       "    </tr>\n",
       "  </tbody>\n",
       "</table>\n",
       "<p>8 rows × 24 columns</p>\n",
       "</div>"
      ],
      "text/plain": [
       "           AMHTXRC3      AMHSVTYP      AMHTXND2       K6SCMON        SPDMON  \\\n",
       "count  41466.000000  41427.000000  41492.000000  41671.000000  41671.000000   \n",
       "mean       0.150605      7.383808      0.063916      4.286962      0.062849   \n",
       "std        0.357668      1.600248      0.244606      4.537507      0.242695   \n",
       "min        0.000000      1.000000      0.000000      0.000000      0.000000   \n",
       "25%        0.000000      8.000000      0.000000      1.000000      0.000000   \n",
       "50%        0.000000      8.000000      0.000000      3.000000      0.000000   \n",
       "75%        0.000000      8.000000      0.000000      6.000000      0.000000   \n",
       "max        1.000000      8.000000      1.000000     24.000000      1.000000   \n",
       "\n",
       "             K6SCYR       K6SCMAX         SPDYR      WHODASC2       SMIPP_U  \\\n",
       "count  13632.000000  41671.000000  41671.000000  41671.000000  41671.000000   \n",
       "mean      10.291153      5.557030      0.136690      3.988145      0.044330   \n",
       "std        6.199324      5.838672      0.343524      5.395138      0.125902   \n",
       "min        0.000000      0.000000      0.000000      0.000000      0.002541   \n",
       "25%        5.000000      1.000000      0.000000      0.000000      0.007445   \n",
       "50%       10.000000      4.000000      0.000000      1.000000      0.008998   \n",
       "75%       15.000000      8.000000      0.000000      6.000000      0.012713   \n",
       "max       24.000000     24.000000      1.000000     24.000000      0.929121   \n",
       "\n",
       "           ...           GOVTPROG        INCOME      POVERTY2      IRINSUR4  \\\n",
       "count      ...       55271.000000  55271.000000  54751.000000  55271.000000   \n",
       "mean       ...           0.239836      2.585027      2.384450      0.878146   \n",
       "std        ...           0.426987      1.138994      0.801514      0.327120   \n",
       "min        ...           0.000000      1.000000      1.000000      0.000000   \n",
       "25%        ...           0.000000      2.000000      2.000000      1.000000   \n",
       "50%        ...           0.000000      2.000000      3.000000      1.000000   \n",
       "75%        ...           0.000000      4.000000      3.000000      1.000000   \n",
       "max        ...           1.000000      4.000000      3.000000      1.000000   \n",
       "\n",
       "              IRSEX       IRMARIT        CATAG3      NEWRACE2      EDUCCAT2  \\\n",
       "count  55271.000000  48588.000000  55271.000000  55271.000000  55271.000000   \n",
       "mean       0.476235      2.750021      2.799533      2.551682      3.270504   \n",
       "std        0.499439      1.391708      1.426004      2.366211      1.324381   \n",
       "min        0.000000      1.000000      1.000000      1.000000      1.000000   \n",
       "25%        0.000000      1.000000      2.000000      1.000000      2.000000   \n",
       "50%        0.000000      4.000000      3.000000      1.000000      3.000000   \n",
       "75%        1.000000      4.000000      4.000000      5.000000      4.000000   \n",
       "max        1.000000      4.000000      5.000000      7.000000      5.000000   \n",
       "\n",
       "            HEALTH2  \n",
       "count  55251.000000  \n",
       "mean       2.186476  \n",
       "std        0.928403  \n",
       "min        1.000000  \n",
       "25%        1.000000  \n",
       "50%        2.000000  \n",
       "75%        3.000000  \n",
       "max        4.000000  \n",
       "\n",
       "[8 rows x 24 columns]"
      ]
     },
     "execution_count": 8,
     "metadata": {},
     "output_type": "execute_result"
    }
   ],
   "source": [
    "#change to N/A for missing data\n",
    "Mental_Diagnostics.replace(-9, np.nan, inplace=True)\n",
    "Mental_Diagnostics.IRMARIT.replace(99,np.nan,inplace=True)#1-married,2-widowed,3-seperated/div,4-never married\n",
    "#change vars coded 1:yes, 2:no --> 1:yes, 0:no \n",
    "Mental_Diagnostics.AMHTXRC3.replace(2,0,inplace=True)#received any mental health trt past year\n",
    "Mental_Diagnostics.AMHTXND2.replace(2,0,inplace=True)#perceived need for mental health treatment in past year\n",
    "Mental_Diagnostics.AMDELT.replace(2,0,inplace=True)#lifetime major depressive episode\n",
    "Mental_Diagnostics.AMDEYR.replace(2,0,inplace=True)#past year major depressive episode\n",
    "Mental_Diagnostics.GOVTPROG.replace(2,0,inplace=True)#participate in government assistance programs\n",
    "Mental_Diagnostics.IRINSUR4.replace(2,0,inplace=True)#1-has insurance, 0-no insurance\n",
    "Mental_Diagnostics.IRSEX.replace(2,0,inplace=True)#1-male, 0-female\n",
    "Mental_Diagnostics.describe()"
   ]
  },
  {
   "cell_type": "code",
   "execution_count": 9,
   "metadata": {
    "collapsed": false
   },
   "outputs": [
    {
     "data": {
      "text/html": [
       "<div>\n",
       "<table border=\"1\" class=\"dataframe\">\n",
       "  <thead>\n",
       "    <tr style=\"text-align: right;\">\n",
       "      <th></th>\n",
       "      <th>AMHTXRC3</th>\n",
       "      <th>AMHSVTYP</th>\n",
       "      <th>AMHTXND2</th>\n",
       "      <th>K6SCMON</th>\n",
       "      <th>SPDMON</th>\n",
       "      <th>K6SCYR</th>\n",
       "      <th>K6SCMAX</th>\n",
       "      <th>SPDYR</th>\n",
       "      <th>WHODASC2</th>\n",
       "      <th>SMIPP_U</th>\n",
       "      <th>...</th>\n",
       "      <th>GOVTPROG</th>\n",
       "      <th>INCOME</th>\n",
       "      <th>POVERTY2</th>\n",
       "      <th>IRINSUR4</th>\n",
       "      <th>IRSEX</th>\n",
       "      <th>IRMARIT</th>\n",
       "      <th>CATAG3</th>\n",
       "      <th>NEWRACE2</th>\n",
       "      <th>EDUCCAT2</th>\n",
       "      <th>HEALTH2</th>\n",
       "    </tr>\n",
       "  </thead>\n",
       "  <tbody>\n",
       "    <tr>\n",
       "      <th>count</th>\n",
       "      <td>5679.000000</td>\n",
       "      <td>5664.000000</td>\n",
       "      <td>5678.000000</td>\n",
       "      <td>5696.000000</td>\n",
       "      <td>5696.000000</td>\n",
       "      <td>4829.000000</td>\n",
       "      <td>5696.000000</td>\n",
       "      <td>5696.0</td>\n",
       "      <td>5696.000000</td>\n",
       "      <td>5696.000000</td>\n",
       "      <td>...</td>\n",
       "      <td>5696.000000</td>\n",
       "      <td>5696.000000</td>\n",
       "      <td>5588.000000</td>\n",
       "      <td>5696.000000</td>\n",
       "      <td>5696.000000</td>\n",
       "      <td>5696.000000</td>\n",
       "      <td>5696.000000</td>\n",
       "      <td>5696.000000</td>\n",
       "      <td>5696.000000</td>\n",
       "      <td>5695.000000</td>\n",
       "    </tr>\n",
       "    <tr>\n",
       "      <th>mean</th>\n",
       "      <td>0.445325</td>\n",
       "      <td>6.372881</td>\n",
       "      <td>0.294470</td>\n",
       "      <td>11.734551</td>\n",
       "      <td>0.459796</td>\n",
       "      <td>17.196935</td>\n",
       "      <td>17.309340</td>\n",
       "      <td>1.0</td>\n",
       "      <td>11.943294</td>\n",
       "      <td>0.226220</td>\n",
       "      <td>...</td>\n",
       "      <td>0.343574</td>\n",
       "      <td>2.193820</td>\n",
       "      <td>2.170186</td>\n",
       "      <td>0.826369</td>\n",
       "      <td>0.350948</td>\n",
       "      <td>3.044593</td>\n",
       "      <td>2.980513</td>\n",
       "      <td>2.413799</td>\n",
       "      <td>2.576194</td>\n",
       "      <td>2.615101</td>\n",
       "    </tr>\n",
       "    <tr>\n",
       "      <th>std</th>\n",
       "      <td>0.497045</td>\n",
       "      <td>2.165682</td>\n",
       "      <td>0.455844</td>\n",
       "      <td>5.319216</td>\n",
       "      <td>0.498425</td>\n",
       "      <td>3.747292</td>\n",
       "      <td>3.516746</td>\n",
       "      <td>0.0</td>\n",
       "      <td>6.258279</td>\n",
       "      <td>0.259794</td>\n",
       "      <td>...</td>\n",
       "      <td>0.474943</td>\n",
       "      <td>1.098009</td>\n",
       "      <td>0.850057</td>\n",
       "      <td>0.378825</td>\n",
       "      <td>0.477309</td>\n",
       "      <td>1.272846</td>\n",
       "      <td>1.064458</td>\n",
       "      <td>2.294922</td>\n",
       "      <td>0.982635</td>\n",
       "      <td>0.973147</td>\n",
       "    </tr>\n",
       "    <tr>\n",
       "      <th>min</th>\n",
       "      <td>0.000000</td>\n",
       "      <td>1.000000</td>\n",
       "      <td>0.000000</td>\n",
       "      <td>0.000000</td>\n",
       "      <td>0.000000</td>\n",
       "      <td>3.000000</td>\n",
       "      <td>13.000000</td>\n",
       "      <td>1.0</td>\n",
       "      <td>0.000000</td>\n",
       "      <td>0.004284</td>\n",
       "      <td>...</td>\n",
       "      <td>0.000000</td>\n",
       "      <td>1.000000</td>\n",
       "      <td>1.000000</td>\n",
       "      <td>0.000000</td>\n",
       "      <td>0.000000</td>\n",
       "      <td>1.000000</td>\n",
       "      <td>2.000000</td>\n",
       "      <td>1.000000</td>\n",
       "      <td>1.000000</td>\n",
       "      <td>1.000000</td>\n",
       "    </tr>\n",
       "    <tr>\n",
       "      <th>25%</th>\n",
       "      <td>0.000000</td>\n",
       "      <td>6.000000</td>\n",
       "      <td>0.000000</td>\n",
       "      <td>8.000000</td>\n",
       "      <td>0.000000</td>\n",
       "      <td>14.000000</td>\n",
       "      <td>14.000000</td>\n",
       "      <td>1.0</td>\n",
       "      <td>8.000000</td>\n",
       "      <td>0.029295</td>\n",
       "      <td>...</td>\n",
       "      <td>0.000000</td>\n",
       "      <td>1.000000</td>\n",
       "      <td>1.000000</td>\n",
       "      <td>1.000000</td>\n",
       "      <td>0.000000</td>\n",
       "      <td>1.000000</td>\n",
       "      <td>2.000000</td>\n",
       "      <td>1.000000</td>\n",
       "      <td>2.000000</td>\n",
       "      <td>2.000000</td>\n",
       "    </tr>\n",
       "    <tr>\n",
       "      <th>50%</th>\n",
       "      <td>0.000000</td>\n",
       "      <td>8.000000</td>\n",
       "      <td>0.000000</td>\n",
       "      <td>12.000000</td>\n",
       "      <td>0.000000</td>\n",
       "      <td>17.000000</td>\n",
       "      <td>17.000000</td>\n",
       "      <td>1.0</td>\n",
       "      <td>12.000000</td>\n",
       "      <td>0.105737</td>\n",
       "      <td>...</td>\n",
       "      <td>0.000000</td>\n",
       "      <td>2.000000</td>\n",
       "      <td>2.000000</td>\n",
       "      <td>1.000000</td>\n",
       "      <td>0.000000</td>\n",
       "      <td>4.000000</td>\n",
       "      <td>3.000000</td>\n",
       "      <td>1.000000</td>\n",
       "      <td>3.000000</td>\n",
       "      <td>3.000000</td>\n",
       "    </tr>\n",
       "    <tr>\n",
       "      <th>75%</th>\n",
       "      <td>1.000000</td>\n",
       "      <td>8.000000</td>\n",
       "      <td>1.000000</td>\n",
       "      <td>15.000000</td>\n",
       "      <td>1.000000</td>\n",
       "      <td>19.000000</td>\n",
       "      <td>19.000000</td>\n",
       "      <td>1.0</td>\n",
       "      <td>16.000000</td>\n",
       "      <td>0.352628</td>\n",
       "      <td>...</td>\n",
       "      <td>1.000000</td>\n",
       "      <td>3.000000</td>\n",
       "      <td>3.000000</td>\n",
       "      <td>1.000000</td>\n",
       "      <td>1.000000</td>\n",
       "      <td>4.000000</td>\n",
       "      <td>4.000000</td>\n",
       "      <td>3.000000</td>\n",
       "      <td>3.000000</td>\n",
       "      <td>3.000000</td>\n",
       "    </tr>\n",
       "    <tr>\n",
       "      <th>max</th>\n",
       "      <td>1.000000</td>\n",
       "      <td>8.000000</td>\n",
       "      <td>1.000000</td>\n",
       "      <td>24.000000</td>\n",
       "      <td>1.000000</td>\n",
       "      <td>24.000000</td>\n",
       "      <td>24.000000</td>\n",
       "      <td>1.0</td>\n",
       "      <td>24.000000</td>\n",
       "      <td>0.929121</td>\n",
       "      <td>...</td>\n",
       "      <td>1.000000</td>\n",
       "      <td>4.000000</td>\n",
       "      <td>3.000000</td>\n",
       "      <td>1.000000</td>\n",
       "      <td>1.000000</td>\n",
       "      <td>4.000000</td>\n",
       "      <td>5.000000</td>\n",
       "      <td>7.000000</td>\n",
       "      <td>4.000000</td>\n",
       "      <td>4.000000</td>\n",
       "    </tr>\n",
       "  </tbody>\n",
       "</table>\n",
       "<p>8 rows × 24 columns</p>\n",
       "</div>"
      ],
      "text/plain": [
       "          AMHTXRC3     AMHSVTYP     AMHTXND2      K6SCMON       SPDMON  \\\n",
       "count  5679.000000  5664.000000  5678.000000  5696.000000  5696.000000   \n",
       "mean      0.445325     6.372881     0.294470    11.734551     0.459796   \n",
       "std       0.497045     2.165682     0.455844     5.319216     0.498425   \n",
       "min       0.000000     1.000000     0.000000     0.000000     0.000000   \n",
       "25%       0.000000     6.000000     0.000000     8.000000     0.000000   \n",
       "50%       0.000000     8.000000     0.000000    12.000000     0.000000   \n",
       "75%       1.000000     8.000000     1.000000    15.000000     1.000000   \n",
       "max       1.000000     8.000000     1.000000    24.000000     1.000000   \n",
       "\n",
       "            K6SCYR      K6SCMAX   SPDYR     WHODASC2      SMIPP_U  \\\n",
       "count  4829.000000  5696.000000  5696.0  5696.000000  5696.000000   \n",
       "mean     17.196935    17.309340     1.0    11.943294     0.226220   \n",
       "std       3.747292     3.516746     0.0     6.258279     0.259794   \n",
       "min       3.000000    13.000000     1.0     0.000000     0.004284   \n",
       "25%      14.000000    14.000000     1.0     8.000000     0.029295   \n",
       "50%      17.000000    17.000000     1.0    12.000000     0.105737   \n",
       "75%      19.000000    19.000000     1.0    16.000000     0.352628   \n",
       "max      24.000000    24.000000     1.0    24.000000     0.929121   \n",
       "\n",
       "          ...          GOVTPROG       INCOME     POVERTY2     IRINSUR4  \\\n",
       "count     ...       5696.000000  5696.000000  5588.000000  5696.000000   \n",
       "mean      ...          0.343574     2.193820     2.170186     0.826369   \n",
       "std       ...          0.474943     1.098009     0.850057     0.378825   \n",
       "min       ...          0.000000     1.000000     1.000000     0.000000   \n",
       "25%       ...          0.000000     1.000000     1.000000     1.000000   \n",
       "50%       ...          0.000000     2.000000     2.000000     1.000000   \n",
       "75%       ...          1.000000     3.000000     3.000000     1.000000   \n",
       "max       ...          1.000000     4.000000     3.000000     1.000000   \n",
       "\n",
       "             IRSEX      IRMARIT       CATAG3     NEWRACE2     EDUCCAT2  \\\n",
       "count  5696.000000  5696.000000  5696.000000  5696.000000  5696.000000   \n",
       "mean      0.350948     3.044593     2.980513     2.413799     2.576194   \n",
       "std       0.477309     1.272846     1.064458     2.294922     0.982635   \n",
       "min       0.000000     1.000000     2.000000     1.000000     1.000000   \n",
       "25%       0.000000     1.000000     2.000000     1.000000     2.000000   \n",
       "50%       0.000000     4.000000     3.000000     1.000000     3.000000   \n",
       "75%       1.000000     4.000000     4.000000     3.000000     3.000000   \n",
       "max       1.000000     4.000000     5.000000     7.000000     4.000000   \n",
       "\n",
       "           HEALTH2  \n",
       "count  5695.000000  \n",
       "mean      2.615101  \n",
       "std       0.973147  \n",
       "min       1.000000  \n",
       "25%       2.000000  \n",
       "50%       3.000000  \n",
       "75%       3.000000  \n",
       "max       4.000000  \n",
       "\n",
       "[8 rows x 24 columns]"
      ]
     },
     "execution_count": 9,
     "metadata": {},
     "output_type": "execute_result"
    }
   ],
   "source": [
    "mh_sample = Mental_Diagnostics[Mental_Diagnostics.SPDYR==1]\n",
    "mh_sample.describe()\n",
    "#SPDYR = 1(subsample of 5696 adults) experienced psychological distress this past year"
   ]
  },
  {
   "cell_type": "code",
   "execution_count": 10,
   "metadata": {
    "collapsed": false
   },
   "outputs": [
    {
     "data": {
      "text/plain": [
       "<matplotlib.axes._subplots.AxesSubplot at 0xa328c50>"
      ]
     },
     "execution_count": 10,
     "metadata": {},
     "output_type": "execute_result"
    },
    {
     "data": {
      "image/png": "[encoded data removed]",
      "text/plain": [
       "<matplotlib.figure.Figure at 0xac31f98>"
      ]
     },
     "metadata": {},
     "output_type": "display_data"
    }
   ],
   "source": [
    "mh_sample.AMHTXRC3.hist()\n",
    "#It looks to be about a half and half split \n",
    "#Slightly less than half of adults experiencing serious psychological distress in the \n",
    "#past year did not receive any form of mental health treatment in the past year.\n",
    "\n",
    "\n",
    "#I need to find variables that will predict a 1 value for AMHTXRC3\n",
    "#Therefore, I will split into mh_sample[AMHTXRC3=1] and mh_sample[AMHTXRC3=0]"
   ]
  },
  {
   "cell_type": "code",
   "execution_count": 11,
   "metadata": {
    "collapsed": false
   },
   "outputs": [
    {
     "data": {
      "text/plain": [
       "AMHTXRC3    2529\n",
       "AMHSVTYP    2514\n",
       "AMHTXND2    2523\n",
       "K6SCMON     2529\n",
       "SPDMON      2529\n",
       "dtype: int64"
      ]
     },
     "execution_count": 11,
     "metadata": {},
     "output_type": "execute_result"
    }
   ],
   "source": [
    "recv_trt = mh_sample[mh_sample.AMHTXRC3==1]\n",
    "recv_trt.count().head()\n",
    "#2529 response = 1"
   ]
  },
  {
   "cell_type": "code",
   "execution_count": 12,
   "metadata": {
    "collapsed": false
   },
   "outputs": [
    {
     "data": {
      "text/plain": [
       "AMHTXRC3    3150\n",
       "AMHSVTYP    3150\n",
       "AMHTXND2    3144\n",
       "K6SCMON     3150\n",
       "SPDMON      3150\n",
       "dtype: int64"
      ]
     },
     "execution_count": 12,
     "metadata": {},
     "output_type": "execute_result"
    }
   ],
   "source": [
    "no_trt = mh_sample[mh_sample.AMHTXRC3==0]\n",
    "no_trt.count().head()\n",
    "#3150 response = 0"
   ]
  },
  {
   "cell_type": "code",
   "execution_count": 13,
   "metadata": {
    "collapsed": false
   },
   "outputs": [
    {
     "data": {
      "text/plain": [
       "0.0    1546\n",
       "1.0     977\n",
       "Name: AMHTXND2, dtype: int64"
      ]
     },
     "execution_count": 13,
     "metadata": {},
     "output_type": "execute_result"
    },
    {
     "data": {
      "image/png": "[encoded data removed]",
      "text/plain": [
       "<matplotlib.figure.Figure at 0xa39b0f0>"
      ]
     },
     "metadata": {},
     "output_type": "display_data"
    }
   ],
   "source": [
    "recv_trt.AMHTXND2.hist(bins=2,edgecolor='w', lw=1)\n",
    "recv_trt.AMHTXND2.value_counts()\n",
    "#39 pct of those who receive mh trt have a perceived need for trt"
   ]
  },
  {
   "cell_type": "code",
   "execution_count": 14,
   "metadata": {
    "collapsed": false
   },
   "outputs": [
    {
     "data": {
      "image/png": "[encoded data removed]",
      "text/plain": [
       "<matplotlib.figure.Figure at 0xaabd9e8>"
      ]
     },
     "metadata": {},
     "output_type": "display_data"
    }
   ],
   "source": [
    "no_trt.AMHTXND2.hist(bins=2,edgecolor='w', lw=1)\n",
    "no_trt.AMHTXND2.value_counts()\n",
    "#while only 22 pct of those who don't receive trt have a perceived need for trt \n",
    "#(1/5 people who think they need mh trt and need it aren't getting it for whatever reason) ~look at just this group later\n",
    "unable_trt = no_trt[no_trt.AMHTXND2 == 1]"
   ]
  },
  {
   "cell_type": "code",
   "execution_count": 15,
   "metadata": {
    "collapsed": false
   },
   "outputs": [
    {
     "data": {
      "text/plain": [
       "count    2529.000000\n",
       "mean       12.129696\n",
       "std         5.208146\n",
       "min         0.000000\n",
       "25%         8.000000\n",
       "50%        12.000000\n",
       "75%        16.000000\n",
       "max        24.000000\n",
       "Name: K6SCMON, dtype: float64"
      ]
     },
     "execution_count": 15,
     "metadata": {},
     "output_type": "execute_result"
    },
    {
     "data": {
      "image/png": "[encoded data removed]",
      "text/plain": [
       "<matplotlib.figure.Figure at 0xaaf6748>"
      ]
     },
     "metadata": {},
     "output_type": "display_data"
    }
   ],
   "source": [
    "recv_trt.K6SCMON.hist(bins=25,edgecolor='w', lw=1) #0-24 var so 24 bins\n",
    "recv_trt.K6SCMON.describe()"
   ]
  },
  {
   "cell_type": "code",
   "execution_count": 16,
   "metadata": {
    "collapsed": false
   },
   "outputs": [
    {
     "data": {
      "text/plain": [
       "count    3150.000000\n",
       "mean       11.394603\n",
       "std         5.375589\n",
       "min         0.000000\n",
       "25%         7.000000\n",
       "50%        11.000000\n",
       "75%        15.000000\n",
       "max        24.000000\n",
       "Name: K6SCMON, dtype: float64"
      ]
     },
     "execution_count": 16,
     "metadata": {},
     "output_type": "execute_result"
    },
    {
     "data": {
      "image/png": "[encoded data removed]",
      "text/plain": [
       "<matplotlib.figure.Figure at 0xab9f7b8>"
      ]
     },
     "metadata": {},
     "output_type": "display_data"
    }
   ],
   "source": [
    "no_trt.K6SCMON.hist(bins=25,edgecolor='w', lw=1) #0-24 var so 24 bins\n",
    "no_trt.K6SCMON.describe()\n",
    "#no discernable difference between the groups for K6SCMON"
   ]
  },
  {
   "cell_type": "code",
   "execution_count": 17,
   "metadata": {
    "collapsed": false
   },
   "outputs": [
    {
     "data": {
      "text/plain": [
       "count    2529.000000\n",
       "mean        0.488731\n",
       "std         0.499972\n",
       "min         0.000000\n",
       "25%         0.000000\n",
       "50%         0.000000\n",
       "75%         1.000000\n",
       "max         1.000000\n",
       "Name: SPDMON, dtype: float64"
      ]
     },
     "execution_count": 17,
     "metadata": {},
     "output_type": "execute_result"
    },
    {
     "data": {
      "image/png": "[encoded data removed]",
      "text/plain": [
       "<matplotlib.figure.Figure at 0xa865748>"
      ]
     },
     "metadata": {},
     "output_type": "display_data"
    }
   ],
   "source": [
    "recv_trt.SPDMON.hist(bins=2,edgecolor='w', lw=1)\n",
    "recv_trt.SPDMON.describe()"
   ]
  },
  {
   "cell_type": "code",
   "execution_count": 18,
   "metadata": {
    "collapsed": false
   },
   "outputs": [
    {
     "data": {
      "text/plain": [
       "count    3150.000000\n",
       "mean        0.434286\n",
       "std         0.495742\n",
       "min         0.000000\n",
       "25%         0.000000\n",
       "50%         0.000000\n",
       "75%         1.000000\n",
       "max         1.000000\n",
       "Name: SPDMON, dtype: float64"
      ]
     },
     "execution_count": 18,
     "metadata": {},
     "output_type": "execute_result"
    },
    {
     "data": {
      "image/png": "[encoded data removed]",
      "text/plain": [
       "<matplotlib.figure.Figure at 0xb352550>"
      ]
     },
     "metadata": {},
     "output_type": "display_data"
    }
   ],
   "source": [
    "no_trt.SPDMON.hist(bins=2,edgecolor='w', lw=1)\n",
    "no_trt.SPDMON.describe()\n",
    "#diff between groups is roughly 5 pct, not significant enough\n",
    "#It makes sense that measures of the past month would not be predictive for obtaining trt in past year"
   ]
  },
  {
   "cell_type": "code",
   "execution_count": 19,
   "metadata": {
    "collapsed": false
   },
   "outputs": [
    {
     "data": {
      "text/plain": [
       "count    2173.000000\n",
       "mean       17.897837\n",
       "std         3.773351\n",
       "min         3.000000\n",
       "25%        15.000000\n",
       "50%        18.000000\n",
       "75%        21.000000\n",
       "max        24.000000\n",
       "Name: K6SCYR, dtype: float64"
      ]
     },
     "execution_count": 19,
     "metadata": {},
     "output_type": "execute_result"
    },
    {
     "data": {
      "image/png": "[encoded data removed]",
      "text/plain": [
       "<matplotlib.figure.Figure at 0xb3baa58>"
      ]
     },
     "metadata": {},
     "output_type": "display_data"
    }
   ],
   "source": [
    "recv_trt.K6SCYR.hist(bins=25,edgecolor='w', lw=1) #0-24 var so 25 bins\n",
    "recv_trt.K6SCYR.describe()"
   ]
  },
  {
   "cell_type": "code",
   "execution_count": 20,
   "metadata": {
    "collapsed": false
   },
   "outputs": [
    {
     "data": {
      "text/plain": [
       "count    2643.000000\n",
       "mean       16.621642\n",
       "std         3.617271\n",
       "min         4.000000\n",
       "25%        14.000000\n",
       "50%        16.000000\n",
       "75%        18.000000\n",
       "max        24.000000\n",
       "Name: K6SCYR, dtype: float64"
      ]
     },
     "execution_count": 20,
     "metadata": {},
     "output_type": "execute_result"
    },
    {
     "data": {
      "image/png": "[encoded data removed]",
      "text/plain": [
       "<matplotlib.figure.Figure at 0xb411fd0>"
      ]
     },
     "metadata": {},
     "output_type": "display_data"
    }
   ],
   "source": [
    "no_trt.K6SCYR.hist(bins=25,edgecolor='w', lw=1) #0-24 var so 25 bins\n",
    "no_trt.K6SCYR.describe()\n",
    "#would be interesting to see this var again on only those who had perceived need for trt and recv trt\n",
    "#may be a useful predictor: range of top 50% who recv trt same as range of top 25% who don't (18-24)"
   ]
  },
  {
   "cell_type": "code",
   "execution_count": 21,
   "metadata": {
    "collapsed": false
   },
   "outputs": [
    {
     "data": {
      "text/plain": [
       "count    2529.000000\n",
       "mean       17.864373\n",
       "std         3.574616\n",
       "min        13.000000\n",
       "25%        15.000000\n",
       "50%        18.000000\n",
       "75%        20.000000\n",
       "max        24.000000\n",
       "Name: K6SCMAX, dtype: float64"
      ]
     },
     "execution_count": 21,
     "metadata": {},
     "output_type": "execute_result"
    },
    {
     "data": {
      "image/png": "[encoded data removed]",
      "text/plain": [
       "<matplotlib.figure.Figure at 0xb492a58>"
      ]
     },
     "metadata": {},
     "output_type": "display_data"
    }
   ],
   "source": [
    "recv_trt.K6SCMAX.hist(bins=12,edgecolor='w', lw=1) #13-24 var so 12 bins\n",
    "recv_trt.K6SCMAX.describe()"
   ]
  },
  {
   "cell_type": "code",
   "execution_count": 22,
   "metadata": {
    "collapsed": false
   },
   "outputs": [
    {
     "data": {
      "text/plain": [
       "count    3150.000000\n",
       "mean       16.857778\n",
       "std         3.402420\n",
       "min        13.000000\n",
       "25%        14.000000\n",
       "50%        16.000000\n",
       "75%        19.000000\n",
       "max        24.000000\n",
       "Name: K6SCMAX, dtype: float64"
      ]
     },
     "execution_count": 22,
     "metadata": {},
     "output_type": "execute_result"
    },
    {
     "data": {
      "image/png": "[encoded data removed]",
      "text/plain": [
       "<matplotlib.figure.Figure at 0xb5cc6a0>"
      ]
     },
     "metadata": {},
     "output_type": "display_data"
    }
   ],
   "source": [
    "no_trt.K6SCMAX.hist(bins=12,edgecolor='w', lw=1) #13-24 var so 12 bins\n",
    "no_trt.K6SCMAX.describe()\n",
    "#this may also be a useful predictor with more high K6 scores for recv trt group"
   ]
  },
  {
   "cell_type": "code",
   "execution_count": 87,
   "metadata": {
    "collapsed": false
   },
   "outputs": [
    {
     "data": {
      "text/plain": [
       "<matplotlib.text.Text at 0xb8f1668>"
      ]
     },
     "execution_count": 87,
     "metadata": {},
     "output_type": "execute_result"
    },
    {
     "data": {
      "image/png": "[encoded data removed]",
      "text/plain": [
       "<matplotlib.figure.Figure at 0xb6e4f98>"
      ]
     },
     "metadata": {},
     "output_type": "display_data"
    }
   ],
   "source": [
    "recv_trt.WHODASC2.hist(bins=25,edgecolor='w', lw=1) #0-24 var so 25 bins\n",
    "recv_trt.WHODASC2.describe()\n",
    "plt.title(\"Distribution of scores for those who receive treatment\")\n",
    "plt.xlabel(\"WHODAS SCORE\")\n",
    "plt.ylabel(\"Count\")"
   ]
  },
  {
   "cell_type": "code",
   "execution_count": 88,
   "metadata": {
    "collapsed": false
   },
   "outputs": [
    {
     "data": {
      "text/plain": [
       "<matplotlib.text.Text at 0xb8b0c88>"
      ]
     },
     "execution_count": 88,
     "metadata": {},
     "output_type": "execute_result"
    },
    {
     "data": {
      "image/png": "[encoded data removed]",
      "text/plain": [
       "<matplotlib.figure.Figure at 0xab88390>"
      ]
     },
     "metadata": {},
     "output_type": "display_data"
    }
   ],
   "source": [
    "no_trt.WHODASC2.hist(bins=25,edgecolor='w', lw=1) #0-24 var so 25 bins\n",
    "no_trt.WHODASC2.describe()\n",
    "plt.title(\"Distribution of scores for those who get no treatment\")\n",
    "plt.xlabel(\"WHODAS SCORE\")\n",
    "plt.ylabel(\"Count\")\n",
    "#the whodas score seems to be fairly indicative of someone who received trt, good predictor"
   ]
  },
  {
   "cell_type": "code",
   "execution_count": 25,
   "metadata": {
    "collapsed": false
   },
   "outputs": [
    {
     "data": {
      "text/plain": [
       "count    2529.000000\n",
       "mean        0.322128\n",
       "std         0.286116\n",
       "min         0.004284\n",
       "25%         0.071654\n",
       "50%         0.226875\n",
       "75%         0.523469\n",
       "max         0.929121\n",
       "Name: SMIPP_U, dtype: float64"
      ]
     },
     "execution_count": 25,
     "metadata": {},
     "output_type": "execute_result"
    },
    {
     "data": {
      "image/png": "[encoded data removed]",
      "text/plain": [
       "<matplotlib.figure.Figure at 0xb4115c0>"
      ]
     },
     "metadata": {},
     "output_type": "display_data"
    }
   ],
   "source": [
    "recv_trt.SMIPP_U.hist(edgecolor='w', lw=1)\n",
    "recv_trt.SMIPP_U.describe()"
   ]
  },
  {
   "cell_type": "code",
   "execution_count": 26,
   "metadata": {
    "collapsed": false
   },
   "outputs": [
    {
     "data": {
      "text/plain": [
       "count    3150.000000\n",
       "mean        0.149906\n",
       "std         0.207352\n",
       "min         0.004284\n",
       "25%         0.020405\n",
       "50%         0.053314\n",
       "75%         0.188748\n",
       "max         0.929121\n",
       "Name: SMIPP_U, dtype: float64"
      ]
     },
     "execution_count": 26,
     "metadata": {},
     "output_type": "execute_result"
    },
    {
     "data": {
      "image/png": "[encoded data removed]",
      "text/plain": [
       "<matplotlib.figure.Figure at 0xb658fd0>"
      ]
     },
     "metadata": {},
     "output_type": "display_data"
    }
   ],
   "source": [
    "no_trt.SMIPP_U.hist(edgecolor='w', lw=1)\n",
    "no_trt.SMIPP_U.describe()\n",
    "#this var is predicted probability of serious mental illness, so may be a little too easy, but seems very predictive\n",
    "#I should look into the documentation of how this is calculated"
   ]
  },
  {
   "cell_type": "code",
   "execution_count": 27,
   "metadata": {
    "collapsed": false
   },
   "outputs": [
    {
     "data": {
      "text/plain": [
       "count    2515.000000\n",
       "mean        0.683101\n",
       "std         0.465360\n",
       "min         0.000000\n",
       "25%         0.000000\n",
       "50%         1.000000\n",
       "75%         1.000000\n",
       "max         1.000000\n",
       "Name: AMDELT, dtype: float64"
      ]
     },
     "execution_count": 27,
     "metadata": {},
     "output_type": "execute_result"
    },
    {
     "data": {
      "image/png": "[encoded data removed]",
      "text/plain": [
       "<matplotlib.figure.Figure at 0xb66ac88>"
      ]
     },
     "metadata": {},
     "output_type": "display_data"
    }
   ],
   "source": [
    "recv_trt.AMDELT.hist(edgecolor='w', lw=1)\n",
    "recv_trt.AMDELT.describe()\n",
    "#68 pct of those who recv trt experienced a major depressive episode in their lifetime"
   ]
  },
  {
   "cell_type": "code",
   "execution_count": 28,
   "metadata": {
    "collapsed": false
   },
   "outputs": [
    {
     "data": {
      "text/plain": [
       "count    3131.000000\n",
       "mean        0.432769\n",
       "std         0.495539\n",
       "min         0.000000\n",
       "25%         0.000000\n",
       "50%         0.000000\n",
       "75%         1.000000\n",
       "max         1.000000\n",
       "Name: AMDELT, dtype: float64"
      ]
     },
     "execution_count": 28,
     "metadata": {},
     "output_type": "execute_result"
    },
    {
     "data": {
      "image/png": "[encoded data removed]",
      "text/plain": [
       "<matplotlib.figure.Figure at 0xb39fb70>"
      ]
     },
     "metadata": {},
     "output_type": "display_data"
    }
   ],
   "source": [
    "no_trt.AMDELT.hist(edgecolor='w', lw=1)\n",
    "no_trt.AMDELT.describe()\n",
    "#43 pct of those who get no trt experienced a major depressive episode in their lifetime\n",
    "#this seems like a significant difference that could be predictive"
   ]
  },
  {
   "cell_type": "code",
   "execution_count": 92,
   "metadata": {
    "collapsed": false
   },
   "outputs": [
    {
     "data": {
      "text/plain": [
       "<matplotlib.text.Text at 0xdaceb38>"
      ]
     },
     "execution_count": 92,
     "metadata": {},
     "output_type": "execute_result"
    },
    {
     "data": {
      "image/png": "[encoded data removed]",
      "text/plain": [
       "<matplotlib.figure.Figure at 0xdb22c50>"
      ]
     },
     "metadata": {},
     "output_type": "display_data"
    }
   ],
   "source": [
    "recv_trt.AMDEYR.hist(bins=2, edgecolor='w', lw=1)\n",
    "recv_trt.AMDEYR.describe()\n",
    "plt.title(\"Major Depressive Episodes in those who receive treatment\")\n",
    "plt.xlabel(\"Major Depressive Episode in Lifetime\")\n",
    "plt.ylabel(\"Count\")\n",
    "#55 pct of those who recv trt experienced a major depressive episode in the past year"
   ]
  },
  {
   "cell_type": "code",
   "execution_count": 93,
   "metadata": {
    "collapsed": false
   },
   "outputs": [
    {
     "data": {
      "text/plain": [
       "<matplotlib.text.Text at 0xdb9bac8>"
      ]
     },
     "execution_count": 93,
     "metadata": {},
     "output_type": "execute_result"
    },
    {
     "data": {
      "image/png": "[encoded data removed]",
      "text/plain": [
       "<matplotlib.figure.Figure at 0xdb8acc0>"
      ]
     },
     "metadata": {},
     "output_type": "display_data"
    }
   ],
   "source": [
    "no_trt.AMDEYR.hist(bins=2, edgecolor='w', lw=1)\n",
    "no_trt.AMDEYR.describe()\n",
    "plt.title(\"Major Depressive Episodes in those who get no treatment\")\n",
    "plt.xlabel(\"Major Depressive Episode in Lifetime\")\n",
    "plt.ylabel(\"Count\")\n",
    "#29 pct of those who get no trt experienced a major depressive episode in the past year\n",
    "#this is an even bigger difference that is likely predictive"
   ]
  },
  {
   "cell_type": "code",
   "execution_count": 31,
   "metadata": {
    "collapsed": false
   },
   "outputs": [
    {
     "data": {
      "text/plain": [
       "count    1724.000000\n",
       "mean        0.856148\n",
       "std         0.351041\n",
       "min         0.000000\n",
       "25%         1.000000\n",
       "50%         1.000000\n",
       "75%         1.000000\n",
       "max         1.000000\n",
       "Name: ATXMDEYR, dtype: float64"
      ]
     },
     "execution_count": 31,
     "metadata": {},
     "output_type": "execute_result"
    },
    {
     "data": {
      "image/png": "[encoded data removed]",
      "text/plain": [
       "<matplotlib.figure.Figure at 0xab62c88>"
      ]
     },
     "metadata": {},
     "output_type": "display_data"
    }
   ],
   "source": [
    "recv_trt.ATXMDEYR.hist(edgecolor='w', lw=1)\n",
    "recv_trt.ATXMDEYR.describe()"
   ]
  },
  {
   "cell_type": "code",
   "execution_count": 32,
   "metadata": {
    "collapsed": false
   },
   "outputs": [
    {
     "data": {
      "text/plain": [
       "count    1369.000000\n",
       "mean        0.200146\n",
       "std         0.400256\n",
       "min         0.000000\n",
       "25%         0.000000\n",
       "50%         0.000000\n",
       "75%         0.000000\n",
       "max         1.000000\n",
       "Name: ATXMDEYR, dtype: float64"
      ]
     },
     "execution_count": 32,
     "metadata": {},
     "output_type": "execute_result"
    },
    {
     "data": {
      "image/png": "[encoded data removed]",
      "text/plain": [
       "<matplotlib.figure.Figure at 0xb40a438>"
      ]
     },
     "metadata": {},
     "output_type": "display_data"
    }
   ],
   "source": [
    "no_trt.ATXMDEYR.hist(edgecolor='w', lw=1)\n",
    "no_trt.ATXMDEYR.describe()\n",
    "#this may be too similar to the response variable, because it stands for whether or not saw or talked to md/prof for major depressive episode in past year"
   ]
  },
  {
   "cell_type": "code",
   "execution_count": 33,
   "metadata": {
    "collapsed": true
   },
   "outputs": [
    {
     "data": {
      "text/plain": [
       "count    1725.000000\n",
       "mean        0.815072\n",
       "std         0.388351\n",
       "min         0.000000\n",
       "25%         1.000000\n",
       "50%         1.000000\n",
       "75%         1.000000\n",
       "max         1.000000\n",
       "Name: ARXMDEYR, dtype: float64"
      ]
     },
     "execution_count": 33,
     "metadata": {},
     "output_type": "execute_result"
    },
    {
     "data": {
      "image/png": "[encoded data removed]",
      "text/plain": [
       "<matplotlib.figure.Figure at 0xb69d550>"
      ]
     },
     "metadata": {},
     "output_type": "display_data"
    }
   ],
   "source": [
    "recv_trt.ARXMDEYR.hist(edgecolor='w', lw=1)\n",
    "recv_trt.ARXMDEYR.describe()"
   ]
  },
  {
   "cell_type": "code",
   "execution_count": 34,
   "metadata": {
    "collapsed": true
   },
   "outputs": [
    {
     "data": {
      "text/plain": [
       "count    1371.000000\n",
       "mean        0.054705\n",
       "std         0.227486\n",
       "min         0.000000\n",
       "25%         0.000000\n",
       "50%         0.000000\n",
       "75%         0.000000\n",
       "max         1.000000\n",
       "Name: ARXMDEYR, dtype: float64"
      ]
     },
     "execution_count": 34,
     "metadata": {},
     "output_type": "execute_result"
    },
    {
     "data": {
      "image/png": "[encoded data removed]",
      "text/plain": [
       "<matplotlib.figure.Figure at 0xabb5e80>"
      ]
     },
     "metadata": {},
     "output_type": "display_data"
    }
   ],
   "source": [
    "no_trt.ARXMDEYR.hist(edgecolor='w', lw=1)\n",
    "no_trt.ARXMDEYR.describe()\n",
    "#also may be too similar to the response variable, because it stands for whether or not used rx medication for major depressive episode in past year"
   ]
  },
  {
   "cell_type": "code",
   "execution_count": 35,
   "metadata": {
    "collapsed": true
   },
   "outputs": [
    {
     "data": {
      "text/plain": [
       "count    2529.000000\n",
       "mean        0.883353\n",
       "std         0.321063\n",
       "min         0.000000\n",
       "25%         1.000000\n",
       "50%         1.000000\n",
       "75%         1.000000\n",
       "max         1.000000\n",
       "Name: IRINSUR4, dtype: float64"
      ]
     },
     "execution_count": 35,
     "metadata": {},
     "output_type": "execute_result"
    },
    {
     "data": {
      "image/png": "[encoded data removed]",
      "text/plain": [
       "<matplotlib.figure.Figure at 0xb506630>"
      ]
     },
     "metadata": {},
     "output_type": "display_data"
    }
   ],
   "source": [
    "recv_trt.IRINSUR4.hist(edgecolor='w', lw=1)\n",
    "recv_trt.IRINSUR4.describe()\n",
    "#88 pct have insurance"
   ]
  },
  {
   "cell_type": "code",
   "execution_count": 36,
   "metadata": {
    "collapsed": true
   },
   "outputs": [
    {
     "data": {
      "text/plain": [
       "count    3150.000000\n",
       "mean        0.780952\n",
       "std         0.413667\n",
       "min         0.000000\n",
       "25%         1.000000\n",
       "50%         1.000000\n",
       "75%         1.000000\n",
       "max         1.000000\n",
       "Name: IRINSUR4, dtype: float64"
      ]
     },
     "execution_count": 36,
     "metadata": {},
     "output_type": "execute_result"
    },
    {
     "data": {
      "image/png": "[encoded data removed]",
      "text/plain": [
       "<matplotlib.figure.Figure at 0xb486f98>"
      ]
     },
     "metadata": {},
     "output_type": "display_data"
    }
   ],
   "source": [
    "no_trt.IRINSUR4.hist(edgecolor='w', lw=1)\n",
    "no_trt.IRINSUR4.describe()\n",
    "#only 78 pct have insurance, not sure if this difference is substansial enough"
   ]
  },
  {
   "cell_type": "code",
   "execution_count": 37,
   "metadata": {
    "collapsed": true
   },
   "outputs": [
    {
     "data": {
      "text/plain": [
       "count    2529.000000\n",
       "mean        0.374852\n",
       "std         0.484180\n",
       "min         0.000000\n",
       "25%         0.000000\n",
       "50%         0.000000\n",
       "75%         1.000000\n",
       "max         1.000000\n",
       "Name: GOVTPROG, dtype: float64"
      ]
     },
     "execution_count": 37,
     "metadata": {},
     "output_type": "execute_result"
    },
    {
     "data": {
      "image/png": "[encoded data removed]",
      "text/plain": [
       "<matplotlib.figure.Figure at 0xb3521d0>"
      ]
     },
     "metadata": {},
     "output_type": "display_data"
    }
   ],
   "source": [
    "recv_trt.GOVTPROG.hist(edgecolor='w', lw=1)\n",
    "recv_trt.GOVTPROG.describe()\n",
    "# 37 pct of those who recv trt have govt assistance"
   ]
  },
  {
   "cell_type": "code",
   "execution_count": 38,
   "metadata": {
    "collapsed": true
   },
   "outputs": [
    {
     "data": {
      "text/plain": [
       "count    3150.000000\n",
       "mean        0.318095\n",
       "std         0.465811\n",
       "min         0.000000\n",
       "25%         0.000000\n",
       "50%         0.000000\n",
       "75%         1.000000\n",
       "max         1.000000\n",
       "Name: GOVTPROG, dtype: float64"
      ]
     },
     "execution_count": 38,
     "metadata": {},
     "output_type": "execute_result"
    },
    {
     "data": {
      "image/png": "[encoded data removed]",
      "text/plain": [
       "<matplotlib.figure.Figure at 0xb38c240>"
      ]
     },
     "metadata": {},
     "output_type": "display_data"
    }
   ],
   "source": [
    "no_trt.GOVTPROG.hist(edgecolor='w', lw=1)\n",
    "no_trt.GOVTPROG.describe()\n",
    "# 32 pct of those who get no trt have govt assistance"
   ]
  },
  {
   "cell_type": "code",
   "execution_count": 39,
   "metadata": {
    "collapsed": true
   },
   "outputs": [
    {
     "data": {
      "text/plain": [
       "1    865\n",
       "2    791\n",
       "4    528\n",
       "3    345\n",
       "Name: INCOME, dtype: int64"
      ]
     },
     "execution_count": 39,
     "metadata": {},
     "output_type": "execute_result"
    },
    {
     "data": {
      "image/png": "[encoded data removed]",
      "text/plain": [
       "<matplotlib.figure.Figure at 0xb3b6b00>"
      ]
     },
     "metadata": {},
     "output_type": "display_data"
    }
   ],
   "source": [
    "recv_trt.INCOME.hist(edgecolor='w', lw=1)\n",
    "recv_trt.INCOME.value_counts()"
   ]
  },
  {
   "cell_type": "code",
   "execution_count": 40,
   "metadata": {
    "collapsed": true
   },
   "outputs": [
    {
     "data": {
      "text/plain": [
       "2    1120\n",
       "1    1014\n",
       "4     570\n",
       "3     446\n",
       "Name: INCOME, dtype: int64"
      ]
     },
     "execution_count": 40,
     "metadata": {},
     "output_type": "execute_result"
    },
    {
     "data": {
      "image/png": "[encoded data removed]",
      "text/plain": [
       "<matplotlib.figure.Figure at 0xb433278>"
      ]
     },
     "metadata": {},
     "output_type": "display_data"
    }
   ],
   "source": [
    "no_trt.INCOME.hist(edgecolor='w', lw=1)\n",
    "no_trt.INCOME.value_counts()\n",
    "#no discernable diff"
   ]
  },
  {
   "cell_type": "code",
   "execution_count": 41,
   "metadata": {
    "collapsed": true
   },
   "outputs": [
    {
     "data": {
      "text/plain": [
       "3.0    1184\n",
       "1.0     736\n",
       "2.0     572\n",
       "Name: POVERTY2, dtype: int64"
      ]
     },
     "execution_count": 41,
     "metadata": {},
     "output_type": "execute_result"
    },
    {
     "data": {
      "image/png": "[encoded data removed]",
      "text/plain": [
       "<matplotlib.figure.Figure at 0xb6f87f0>"
      ]
     },
     "metadata": {},
     "output_type": "display_data"
    }
   ],
   "source": [
    "recv_trt.POVERTY2.hist(edgecolor='w', lw=1)\n",
    "recv_trt.POVERTY2.value_counts()"
   ]
  },
  {
   "cell_type": "code",
   "execution_count": 42,
   "metadata": {
    "collapsed": true
   },
   "outputs": [
    {
     "data": {
      "text/plain": [
       "3.0    1387\n",
       "1.0     878\n",
       "2.0     814\n",
       "Name: POVERTY2, dtype: int64"
      ]
     },
     "execution_count": 42,
     "metadata": {},
     "output_type": "execute_result"
    },
    {
     "data": {
      "image/png": "[encoded data removed]",
      "text/plain": [
       "<matplotlib.figure.Figure at 0xb715eb8>"
      ]
     },
     "metadata": {},
     "output_type": "display_data"
    }
   ],
   "source": [
    "no_trt.POVERTY2.hist(edgecolor='w', lw=1)\n",
    "no_trt.POVERTY2.value_counts()\n",
    "#no discernable diff"
   ]
  },
  {
   "cell_type": "code",
   "execution_count": 94,
   "metadata": {
    "collapsed": false
   },
   "outputs": [
    {
     "data": {
      "text/plain": [
       "<matplotlib.text.Text at 0xdc01f98>"
      ]
     },
     "execution_count": 94,
     "metadata": {},
     "output_type": "execute_result"
    },
    {
     "data": {
      "image/png": "[encoded data removed]",
      "text/plain": [
       "<matplotlib.figure.Figure at 0xdbaf710>"
      ]
     },
     "metadata": {},
     "output_type": "display_data"
    }
   ],
   "source": [
    "recv_trt.IRSEX.hist(bins=2,edgecolor='w', lw=1)\n",
    "recv_trt.IRSEX.describe()\n",
    "plt.title(\"Gender of those who receive treatment\")\n",
    "plt.xlabel(\"Gender (0-Female, 1-Male)\")\n",
    "plt.ylabel(\"Count\")"
   ]
  },
  {
   "cell_type": "code",
   "execution_count": 96,
   "metadata": {
    "collapsed": false
   },
   "outputs": [
    {
     "data": {
      "text/plain": [
       "<matplotlib.text.Text at 0xdcdc0b8>"
      ]
     },
     "execution_count": 96,
     "metadata": {},
     "output_type": "execute_result"
    },
    {
     "data": {
      "image/png": "[encoded data removed]",
      "text/plain": [
       "<matplotlib.figure.Figure at 0xdc8a240>"
      ]
     },
     "metadata": {},
     "output_type": "display_data"
    }
   ],
   "source": [
    "no_trt.IRSEX.hist(bins=2, edgecolor='w', lw=1)\n",
    "no_trt.IRSEX.describe()\n",
    "plt.title(\"Gender of those who get no treatment\")\n",
    "plt.xlabel(\"Gender (0-Female, 1-Male)\")\n",
    "plt.ylabel(\"Count\")\n",
    "#65 pct of those who experienced serious psychological distress past year are female\n",
    "#among these individuals, 71 pct of those who recv trt for mh past year are female\n",
    "#and 60 pct of those who get no trt for mh are female\n",
    "#if this difference is significant, it would mean adult men who are experiencing serious psychological distress \n",
    "#are less likely to seek out mental health treatment than their female counterparts"
   ]
  },
  {
   "cell_type": "code",
   "execution_count": 98,
   "metadata": {
    "collapsed": false
   },
   "outputs": [
    {
     "data": {
      "text/plain": [
       "<matplotlib.text.Text at 0xdd8f908>"
      ]
     },
     "execution_count": 98,
     "metadata": {},
     "output_type": "execute_result"
    },
    {
     "data": {
      "image/png": "[encoded data removed]",
      "text/plain": [
       "<matplotlib.figure.Figure at 0xdd8b550>"
      ]
     },
     "metadata": {},
     "output_type": "display_data"
    }
   ],
   "source": [
    "recv_trt.IRMARIT.hist(bins=4, edgecolor='w', lw=1)\n",
    "recv_trt.IRMARIT.value_counts()/recv_trt.IRMARIT.count()\n",
    "plt.title(\"Marital Status of those who receive treatment\")\n",
    "plt.xlabel(\"Marital Status (1-Married,2-Widowed,3-Seperated,4-Unmarried)\")\n",
    "plt.ylabel(\"Count\")\n",
    "#may be worth recoding as never married and married before\n",
    "#but the pct of those who recv trt that are 2(widowed-2.7%) or 3(seperated-19.3%) are both twice \n",
    "#the pct of those who get no trt that are 2(widowed-1.9%) or 3(seperated-10.6%) reponses \n",
    "#seeking trt for psychological distress and being separated from a lifelong partner seem to have some kind of relationship\n",
    "#however, a higher pct of those who seek trt are also married, which could have a few different explanations\n",
    "#(possibly either marriage contributing to distress or the partner contributing to seeking trt)"
   ]
  },
  {
   "cell_type": "code",
   "execution_count": 100,
   "metadata": {
    "collapsed": false
   },
   "outputs": [
    {
     "data": {
      "text/plain": [
       "<matplotlib.text.Text at 0xde99390>"
      ]
     },
     "execution_count": 100,
     "metadata": {},
     "output_type": "execute_result"
    },
    {
     "data": {
      "image/png": "[encoded data removed]",
      "text/plain": [
       "<matplotlib.figure.Figure at 0xde3acf8>"
      ]
     },
     "metadata": {},
     "output_type": "display_data"
    }
   ],
   "source": [
    "no_trt.IRMARIT.hist(bins=4,edgecolor='w', lw=1)\n",
    "no_trt.IRMARIT.value_counts()/no_trt.IRMARIT.count()\n",
    "plt.title(\"Marital Status of those who get no treatment\")\n",
    "plt.xlabel(\"Marital Status (1-Married,2-Widowed,3-Seperated,4-Unmarried)\")\n",
    "plt.ylabel(\"Count\")\n",
    "#There seems to be a larger proportion of those who never married not receiving trt for serious psychological distress\n",
    "#this might mean that younger people are not receiving mh trt among other possible explanations"
   ]
  },
  {
   "cell_type": "code",
   "execution_count": 101,
   "metadata": {
    "collapsed": false
   },
   "outputs": [
    {
     "data": {
      "text/plain": [
       "<matplotlib.text.Text at 0xda33be0>"
      ]
     },
     "execution_count": 101,
     "metadata": {},
     "output_type": "execute_result"
    },
    {
     "data": {
      "image/png": "[encoded data removed]",
      "text/plain": [
       "<matplotlib.figure.Figure at 0xdee5400>"
      ]
     },
     "metadata": {},
     "output_type": "display_data"
    }
   ],
   "source": [
    "recv_trt.HEALTH2.hist(bins=4, edgecolor='w', lw=1) #overall health coded 1-excellent thru 4-fair/poor\n",
    "recv_trt.HEALTH2.value_counts()/recv_trt.HEALTH2.count()\n",
    "plt.title(\"Overall Health of those who receive treatment\")\n",
    "plt.xlabel(\"Overall Health (1-Excellent,2-Very Good,3-Good,4-Fair/Poor)\")\n",
    "plt.ylabel(\"Count\")"
   ]
  },
  {
   "cell_type": "code",
   "execution_count": 102,
   "metadata": {
    "collapsed": false
   },
   "outputs": [
    {
     "data": {
      "text/plain": [
       "<matplotlib.text.Text at 0xdf619b0>"
      ]
     },
     "execution_count": 102,
     "metadata": {},
     "output_type": "execute_result"
    },
    {
     "data": {
      "image/png": "[encoded data removed]",
      "text/plain": [
       "<matplotlib.figure.Figure at 0xdf6b208>"
      ]
     },
     "metadata": {},
     "output_type": "display_data"
    }
   ],
   "source": [
    "no_trt.HEALTH2.hist(bins=4, edgecolor='w', lw=1)\n",
    "no_trt.HEALTH2.value_counts()/no_trt.HEALTH2.count()\n",
    "plt.title(\"Overall Health of those who get no treatment\")\n",
    "plt.xlabel(\"Overall Health (1-Excellent,2-Very Good,3-Good,4-Fair/Poor)\")\n",
    "plt.ylabel(\"Count\")\n",
    "#lower proportion of fair/poor health(27 pct -> 17pct) and \n",
    "#higher proportion of excellent health(9pct -> 17pct) don't get treatment"
   ]
  },
  {
   "cell_type": "code",
   "execution_count": null,
   "metadata": {
    "collapsed": true
   },
   "outputs": [],
   "source": []
  },
  {
   "cell_type": "code",
   "execution_count": 106,
   "metadata": {
    "collapsed": false
   },
   "outputs": [
    {
     "data": {
      "text/plain": [
       "<matplotlib.text.Text at 0xe0c1c88>"
      ]
     },
     "execution_count": 106,
     "metadata": {},
     "output_type": "execute_result"
    },
    {
     "data": {
      "image/png": "[encoded data removed]",
      "text/plain": [
       "<matplotlib.figure.Figure at 0xe14d860>"
      ]
     },
     "metadata": {},
     "output_type": "display_data"
    }
   ],
   "source": [
    "recv_trt.CATAG3.hist(bins=4,edgecolor='w', lw=1) #var 2-5 has 4 bins\n",
    "recv_trt.CATAG3.value_counts()/recv_trt.CATAG3.count()\n",
    "plt.title(\"Age of those who receive treatment\")\n",
    "plt.xlabel(\"Age (2:18-25 yo,3:26-34 yo,4:35-49 yo,5:50+ yo)\")\n",
    "plt.ylabel(\"Count\")\n",
    "#2    0.461552\n",
    "#4    0.212430\n",
    "#3    0.211201\n",
    "#5    0.114817 this is the distribution of ages for sample experiencing serious psychological distress in past year\n",
    "#seems like the older the adult, the more likely they are to receive trt for mental health"
   ]
  },
  {
   "cell_type": "code",
   "execution_count": 105,
   "metadata": {
    "collapsed": false
   },
   "outputs": [
    {
     "data": {
      "text/plain": [
       "<matplotlib.text.Text at 0xe053588>"
      ]
     },
     "execution_count": 105,
     "metadata": {},
     "output_type": "execute_result"
    },
    {
     "data": {
      "image/png": "[encoded data removed]",
      "text/plain": [
       "<matplotlib.figure.Figure at 0xe0d5cf8>"
      ]
     },
     "metadata": {},
     "output_type": "display_data"
    }
   ],
   "source": [
    "no_trt.CATAG3.hist(bins=4,edgecolor='w', lw=1) #var 2-5 has 4 bins\n",
    "no_trt.CATAG3.value_counts()/no_trt.CATAG3.count()\n",
    "plt.title(\"Age of those who get no treatment\")\n",
    "plt.xlabel(\"Age (2:18-25 yo,3:26-34 yo,4:35-49 yo,5:50+ yo)\")\n",
    "plt.ylabel(\"Count\")\n",
    "#this confirms my earlier suspicion that younger adults experiencing psychological distress are less likely to receive trt"
   ]
  },
  {
   "cell_type": "code",
   "execution_count": 107,
   "metadata": {
    "collapsed": false
   },
   "outputs": [
    {
     "data": {
      "text/plain": [
       "<matplotlib.text.Text at 0xe1bde48>"
      ]
     },
     "execution_count": 107,
     "metadata": {},
     "output_type": "execute_result"
    },
    {
     "data": {
      "image/png": "[encoded data removed]",
      "text/plain": [
       "<matplotlib.figure.Figure at 0xe1c2208>"
      ]
     },
     "metadata": {},
     "output_type": "display_data"
    }
   ],
   "source": [
    "recv_trt.NEWRACE2.hist(bins=7,edgecolor='w', lw=1) #1-White, 2-Black, 3-Native American, 4-Pacific Islander, 5-Asian, 6-Mixed, 7-Hispanic\n",
    "rtraceprop = (recv_trt.NEWRACE2.value_counts()/recv_trt.NEWRACE2.count()).sort_values()\n",
    "plt.title(\"Race of those who receive treatment\")\n",
    "plt.xlabel(\"Race (1-White, 2-Black, 3-Native American, 4-Pacific Islander, 5-Asian, 6-Mixed, 7-Hispanic)\")\n",
    "plt.ylabel(\"Count\")\n",
    "#may be very predictive if grouped by white, non-white\n",
    "#seems to be a very distinct trend of whites having access to mh treatment where other races have less access"
   ]
  },
  {
   "cell_type": "code",
   "execution_count": 108,
   "metadata": {
    "collapsed": false
   },
   "outputs": [
    {
     "data": {
      "text/plain": [
       "<matplotlib.text.Text at 0xe2347f0>"
      ]
     },
     "execution_count": 108,
     "metadata": {},
     "output_type": "execute_result"
    },
    {
     "data": {
      "image/png": "[encoded data removed]",
      "text/plain": [
       "<matplotlib.figure.Figure at 0xe23c550>"
      ]
     },
     "metadata": {},
     "output_type": "display_data"
    }
   ],
   "source": [
    "no_trt.NEWRACE2.hist(bins=7,edgecolor='w', lw=1)\n",
    "ntraceprop = (no_trt.NEWRACE2.value_counts()/no_trt.NEWRACE2.count()).sort_values()\n",
    "plt.title(\"Race of those who get no treatment\")\n",
    "plt.xlabel(\"Race (1-White, 2-Black, 3-Native American, 4-Pacific Islander, 5-Asian, 6-Mixed, 7-Hispanic)\")\n",
    "plt.ylabel(\"Count\")\n",
    "#3x pct asians, 2x pct black"
   ]
  },
  {
   "cell_type": "code",
   "execution_count": 53,
   "metadata": {
    "collapsed": true
   },
   "outputs": [
    {
     "data": {
      "text/plain": [
       "3    0.338474\n",
       "2    0.285884\n",
       "4    0.234085\n",
       "1    0.141558\n",
       "Name: EDUCCAT2, dtype: float64"
      ]
     },
     "execution_count": 53,
     "metadata": {},
     "output_type": "execute_result"
    },
    {
     "data": {
      "image/png": "[encoded data removed]",
      "text/plain": [
       "<matplotlib.figure.Figure at 0xaaf46d8>"
      ]
     },
     "metadata": {},
     "output_type": "display_data"
    }
   ],
   "source": [
    "recv_trt.EDUCCAT2.hist(bins=4,edgecolor='w', lw=1) #1-White, 2-Black, 3-Native American, 4-Pacific Islander, 5-Asian, 6-Mixed, 7-Hispanic\n",
    "recv_trt.EDUCCAT2.value_counts()/recv_trt.EDUCCAT2.count()"
   ]
  },
  {
   "cell_type": "code",
   "execution_count": 54,
   "metadata": {
    "collapsed": true
   },
   "outputs": [
    {
     "data": {
      "text/plain": [
       "2    0.337460\n",
       "3    0.314286\n",
       "4    0.180317\n",
       "1    0.167937\n",
       "Name: EDUCCAT2, dtype: float64"
      ]
     },
     "execution_count": 54,
     "metadata": {},
     "output_type": "execute_result"
    },
    {
     "data": {
      "image/png": "[encoded data removed]",
      "text/plain": [
       "<matplotlib.figure.Figure at 0xb3f84a8>"
      ]
     },
     "metadata": {},
     "output_type": "display_data"
    }
   ],
   "source": [
    "no_trt.EDUCCAT2.hist(bins=4,edgecolor='w', lw=1)\n",
    "no_trt.EDUCCAT2.value_counts()/no_trt.EDUCCAT2.count()\n",
    "#slightly higher prop of 1 and 2 (lower incomes), lower prop of 3 and 4 (higher incomes)"
   ]
  },
  {
   "cell_type": "code",
   "execution_count": 55,
   "metadata": {
    "collapsed": true
   },
   "outputs": [],
   "source": [
    "#MOST PREDICTIVE VARIABLES BASED ON MY INTUITION:\n",
    "#AMHTXND2 - perceived need for trt, \n",
    "#K6SCMAX - psych distress score worst month, \n",
    "#WHODASC2 - another measure of psych distress,\n",
    "#SMIPP_U, - prob of serious mental illness, \n",
    "#AMDELT - major depressive episode lifetime, \n",
    "#AMDEYR - major depressive episode past year, \n",
    "#IRSEX - gender, \n",
    "#IRMARIT - marital status(1-married,2-widowed,3-sep/div,4-unmarried), \n",
    "#HEALTH2 - overall health(1-excellent thru 4-fair/poor), \n",
    "#CATAG3 - age categories(2:18-25,3:26-34,4:35-49,5:50+), \n",
    "#NEWRACE2 - race categories(1-White, 2-Black, 3-Native American, 4-Pacific Islander, 5-Asian, 6-Mixed, 7-Hispanic)"
   ]
  },
  {
   "cell_type": "code",
   "execution_count": 56,
   "metadata": {
    "collapsed": false
   },
   "outputs": [],
   "source": [
    "from sklearn.feature_selection import RFE \n",
    "from sklearn.linear_model import LogisticRegression"
   ]
  },
  {
   "cell_type": "code",
   "execution_count": 57,
   "metadata": {
    "collapsed": true
   },
   "outputs": [],
   "source": []
  },
  {
   "cell_type": "code",
   "execution_count": null,
   "metadata": {
    "collapsed": true
   },
   "outputs": [],
   "source": []
  },
  {
   "cell_type": "code",
   "execution_count": null,
   "metadata": {
    "collapsed": true
   },
   "outputs": [],
   "source": []
  },
  {
   "cell_type": "code",
   "execution_count": null,
   "metadata": {
    "collapsed": true
   },
   "outputs": [],
   "source": []
  },
  {
   "cell_type": "code",
   "execution_count": null,
   "metadata": {
    "collapsed": true
   },
   "outputs": [],
   "source": []
  },
  {
   "cell_type": "code",
   "execution_count": null,
   "metadata": {
    "collapsed": true
   },
   "outputs": [],
   "source": []
  },
  {
   "cell_type": "markdown",
   "metadata": {},
   "source": []
  },
  {
   "cell_type": "code",
   "execution_count": null,
   "metadata": {
    "collapsed": false
   },
   "outputs": [],
   "source": []
  },
  {
   "cell_type": "code",
   "execution_count": 58,
   "metadata": {
    "collapsed": false
   },
   "outputs": [
    {
     "data": {
      "text/plain": [
       "<matplotlib.axes._subplots.AxesSubplot at 0xab889b0>"
      ]
     },
     "execution_count": 58,
     "metadata": {},
     "output_type": "execute_result"
    },
    {
     "data": {
      "image/png": "[encoded data removed]",
      "text/plain": [
       "<matplotlib.figure.Figure at 0xab86518>"
      ]
     },
     "metadata": {},
     "output_type": "display_data"
    }
   ],
   "source": [
    "mh_sample.AMHTXND2.hist(edgecolor='w', lw=1)\n",
    "#However, an even lower proportion of those adults have had a self-perceived need \n",
    "#for mental health treatment in the past year."
   ]
  },
  {
   "cell_type": "code",
   "execution_count": 59,
   "metadata": {
    "collapsed": false
   },
   "outputs": [
    {
     "data": {
      "text/html": [
       "<div>\n",
       "<table border=\"1\" class=\"dataframe\">\n",
       "  <thead>\n",
       "    <tr style=\"text-align: right;\">\n",
       "      <th></th>\n",
       "      <th>AMHTXRC3</th>\n",
       "      <th>AMHSVTYP</th>\n",
       "      <th>AMHTXND2</th>\n",
       "      <th>K6SCMON</th>\n",
       "      <th>SPDMON</th>\n",
       "      <th>K6SCYR</th>\n",
       "      <th>K6SCMAX</th>\n",
       "      <th>SPDYR</th>\n",
       "      <th>WHODASC2</th>\n",
       "      <th>SMIPP_U</th>\n",
       "      <th>...</th>\n",
       "      <th>GOVTPROG</th>\n",
       "      <th>INCOME</th>\n",
       "      <th>POVERTY2</th>\n",
       "      <th>IRINSUR4</th>\n",
       "      <th>IRSEX</th>\n",
       "      <th>IRMARIT</th>\n",
       "      <th>CATAG3</th>\n",
       "      <th>NEWRACE2</th>\n",
       "      <th>EDUCCAT2</th>\n",
       "      <th>HEALTH2</th>\n",
       "    </tr>\n",
       "  </thead>\n",
       "  <tbody>\n",
       "    <tr>\n",
       "      <th>count</th>\n",
       "      <td>979.000000</td>\n",
       "      <td>975.000000</td>\n",
       "      <td>978.000000</td>\n",
       "      <td>979.000000</td>\n",
       "      <td>979.000000</td>\n",
       "      <td>861.000000</td>\n",
       "      <td>979.000000</td>\n",
       "      <td>979.0</td>\n",
       "      <td>979.000000</td>\n",
       "      <td>979.000000</td>\n",
       "      <td>...</td>\n",
       "      <td>979.000000</td>\n",
       "      <td>979.000000</td>\n",
       "      <td>967.000000</td>\n",
       "      <td>979.000000</td>\n",
       "      <td>979.000000</td>\n",
       "      <td>979.000000</td>\n",
       "      <td>979.000000</td>\n",
       "      <td>979.000000</td>\n",
       "      <td>979.000000</td>\n",
       "      <td>979.000000</td>\n",
       "    </tr>\n",
       "    <tr>\n",
       "      <th>mean</th>\n",
       "      <td>0.703779</td>\n",
       "      <td>5.851282</td>\n",
       "      <td>0.555215</td>\n",
       "      <td>14.490296</td>\n",
       "      <td>0.648621</td>\n",
       "      <td>20.277584</td>\n",
       "      <td>20.182840</td>\n",
       "      <td>1.0</td>\n",
       "      <td>18.607763</td>\n",
       "      <td>0.719821</td>\n",
       "      <td>...</td>\n",
       "      <td>0.401430</td>\n",
       "      <td>2.102145</td>\n",
       "      <td>2.111686</td>\n",
       "      <td>0.821246</td>\n",
       "      <td>0.331971</td>\n",
       "      <td>2.971399</td>\n",
       "      <td>3.254341</td>\n",
       "      <td>2.262513</td>\n",
       "      <td>2.539326</td>\n",
       "      <td>2.938713</td>\n",
       "    </tr>\n",
       "    <tr>\n",
       "      <th>std</th>\n",
       "      <td>0.456823</td>\n",
       "      <td>2.006006</td>\n",
       "      <td>0.497196</td>\n",
       "      <td>5.374964</td>\n",
       "      <td>0.477645</td>\n",
       "      <td>3.305151</td>\n",
       "      <td>3.258507</td>\n",
       "      <td>0.0</td>\n",
       "      <td>4.095159</td>\n",
       "      <td>0.134518</td>\n",
       "      <td>...</td>\n",
       "      <td>0.490438</td>\n",
       "      <td>1.086158</td>\n",
       "      <td>0.842663</td>\n",
       "      <td>0.383342</td>\n",
       "      <td>0.471161</td>\n",
       "      <td>1.244702</td>\n",
       "      <td>1.069979</td>\n",
       "      <td>2.236419</td>\n",
       "      <td>0.968436</td>\n",
       "      <td>0.959466</td>\n",
       "    </tr>\n",
       "    <tr>\n",
       "      <th>min</th>\n",
       "      <td>0.000000</td>\n",
       "      <td>1.000000</td>\n",
       "      <td>0.000000</td>\n",
       "      <td>0.000000</td>\n",
       "      <td>0.000000</td>\n",
       "      <td>10.000000</td>\n",
       "      <td>13.000000</td>\n",
       "      <td>1.0</td>\n",
       "      <td>2.000000</td>\n",
       "      <td>0.500220</td>\n",
       "      <td>...</td>\n",
       "      <td>0.000000</td>\n",
       "      <td>1.000000</td>\n",
       "      <td>1.000000</td>\n",
       "      <td>0.000000</td>\n",
       "      <td>0.000000</td>\n",
       "      <td>1.000000</td>\n",
       "      <td>2.000000</td>\n",
       "      <td>1.000000</td>\n",
       "      <td>1.000000</td>\n",
       "      <td>1.000000</td>\n",
       "    </tr>\n",
       "    <tr>\n",
       "      <th>25%</th>\n",
       "      <td>0.000000</td>\n",
       "      <td>4.000000</td>\n",
       "      <td>0.000000</td>\n",
       "      <td>11.000000</td>\n",
       "      <td>0.000000</td>\n",
       "      <td>18.000000</td>\n",
       "      <td>18.000000</td>\n",
       "      <td>1.0</td>\n",
       "      <td>16.000000</td>\n",
       "      <td>0.596952</td>\n",
       "      <td>...</td>\n",
       "      <td>0.000000</td>\n",
       "      <td>1.000000</td>\n",
       "      <td>1.000000</td>\n",
       "      <td>1.000000</td>\n",
       "      <td>0.000000</td>\n",
       "      <td>1.000000</td>\n",
       "      <td>2.000000</td>\n",
       "      <td>1.000000</td>\n",
       "      <td>2.000000</td>\n",
       "      <td>2.000000</td>\n",
       "    </tr>\n",
       "    <tr>\n",
       "      <th>50%</th>\n",
       "      <td>1.000000</td>\n",
       "      <td>6.000000</td>\n",
       "      <td>1.000000</td>\n",
       "      <td>15.000000</td>\n",
       "      <td>1.000000</td>\n",
       "      <td>20.000000</td>\n",
       "      <td>20.000000</td>\n",
       "      <td>1.0</td>\n",
       "      <td>19.000000</td>\n",
       "      <td>0.730806</td>\n",
       "      <td>...</td>\n",
       "      <td>0.000000</td>\n",
       "      <td>2.000000</td>\n",
       "      <td>2.000000</td>\n",
       "      <td>1.000000</td>\n",
       "      <td>0.000000</td>\n",
       "      <td>4.000000</td>\n",
       "      <td>3.000000</td>\n",
       "      <td>1.000000</td>\n",
       "      <td>3.000000</td>\n",
       "      <td>3.000000</td>\n",
       "    </tr>\n",
       "    <tr>\n",
       "      <th>75%</th>\n",
       "      <td>1.000000</td>\n",
       "      <td>8.000000</td>\n",
       "      <td>1.000000</td>\n",
       "      <td>18.000000</td>\n",
       "      <td>1.000000</td>\n",
       "      <td>24.000000</td>\n",
       "      <td>24.000000</td>\n",
       "      <td>1.0</td>\n",
       "      <td>22.000000</td>\n",
       "      <td>0.837346</td>\n",
       "      <td>...</td>\n",
       "      <td>1.000000</td>\n",
       "      <td>3.000000</td>\n",
       "      <td>3.000000</td>\n",
       "      <td>1.000000</td>\n",
       "      <td>1.000000</td>\n",
       "      <td>4.000000</td>\n",
       "      <td>4.000000</td>\n",
       "      <td>2.000000</td>\n",
       "      <td>3.000000</td>\n",
       "      <td>4.000000</td>\n",
       "    </tr>\n",
       "    <tr>\n",
       "      <th>max</th>\n",
       "      <td>1.000000</td>\n",
       "      <td>8.000000</td>\n",
       "      <td>1.000000</td>\n",
       "      <td>24.000000</td>\n",
       "      <td>1.000000</td>\n",
       "      <td>24.000000</td>\n",
       "      <td>24.000000</td>\n",
       "      <td>1.0</td>\n",
       "      <td>24.000000</td>\n",
       "      <td>0.929121</td>\n",
       "      <td>...</td>\n",
       "      <td>1.000000</td>\n",
       "      <td>4.000000</td>\n",
       "      <td>3.000000</td>\n",
       "      <td>1.000000</td>\n",
       "      <td>1.000000</td>\n",
       "      <td>4.000000</td>\n",
       "      <td>5.000000</td>\n",
       "      <td>7.000000</td>\n",
       "      <td>4.000000</td>\n",
       "      <td>4.000000</td>\n",
       "    </tr>\n",
       "  </tbody>\n",
       "</table>\n",
       "<p>8 rows × 24 columns</p>\n",
       "</div>"
      ],
      "text/plain": [
       "         AMHTXRC3    AMHSVTYP    AMHTXND2     K6SCMON      SPDMON      K6SCYR  \\\n",
       "count  979.000000  975.000000  978.000000  979.000000  979.000000  861.000000   \n",
       "mean     0.703779    5.851282    0.555215   14.490296    0.648621   20.277584   \n",
       "std      0.456823    2.006006    0.497196    5.374964    0.477645    3.305151   \n",
       "min      0.000000    1.000000    0.000000    0.000000    0.000000   10.000000   \n",
       "25%      0.000000    4.000000    0.000000   11.000000    0.000000   18.000000   \n",
       "50%      1.000000    6.000000    1.000000   15.000000    1.000000   20.000000   \n",
       "75%      1.000000    8.000000    1.000000   18.000000    1.000000   24.000000   \n",
       "max      1.000000    8.000000    1.000000   24.000000    1.000000   24.000000   \n",
       "\n",
       "          K6SCMAX  SPDYR    WHODASC2     SMIPP_U     ...        GOVTPROG  \\\n",
       "count  979.000000  979.0  979.000000  979.000000     ...      979.000000   \n",
       "mean    20.182840    1.0   18.607763    0.719821     ...        0.401430   \n",
       "std      3.258507    0.0    4.095159    0.134518     ...        0.490438   \n",
       "min     13.000000    1.0    2.000000    0.500220     ...        0.000000   \n",
       "25%     18.000000    1.0   16.000000    0.596952     ...        0.000000   \n",
       "50%     20.000000    1.0   19.000000    0.730806     ...        0.000000   \n",
       "75%     24.000000    1.0   22.000000    0.837346     ...        1.000000   \n",
       "max     24.000000    1.0   24.000000    0.929121     ...        1.000000   \n",
       "\n",
       "           INCOME    POVERTY2    IRINSUR4       IRSEX     IRMARIT      CATAG3  \\\n",
       "count  979.000000  967.000000  979.000000  979.000000  979.000000  979.000000   \n",
       "mean     2.102145    2.111686    0.821246    0.331971    2.971399    3.254341   \n",
       "std      1.086158    0.842663    0.383342    0.471161    1.244702    1.069979   \n",
       "min      1.000000    1.000000    0.000000    0.000000    1.000000    2.000000   \n",
       "25%      1.000000    1.000000    1.000000    0.000000    1.000000    2.000000   \n",
       "50%      2.000000    2.000000    1.000000    0.000000    4.000000    3.000000   \n",
       "75%      3.000000    3.000000    1.000000    1.000000    4.000000    4.000000   \n",
       "max      4.000000    3.000000    1.000000    1.000000    4.000000    5.000000   \n",
       "\n",
       "         NEWRACE2    EDUCCAT2     HEALTH2  \n",
       "count  979.000000  979.000000  979.000000  \n",
       "mean     2.262513    2.539326    2.938713  \n",
       "std      2.236419    0.968436    0.959466  \n",
       "min      1.000000    1.000000    1.000000  \n",
       "25%      1.000000    2.000000    2.000000  \n",
       "50%      1.000000    3.000000    3.000000  \n",
       "75%      2.000000    3.000000    4.000000  \n",
       "max      7.000000    4.000000    4.000000  \n",
       "\n",
       "[8 rows x 24 columns]"
      ]
     },
     "execution_count": 59,
     "metadata": {},
     "output_type": "execute_result"
    }
   ],
   "source": [
    "#this is the subset which was predicted to have a serious mental illness\n",
    "#could provide some useful insights\n",
    "mh_sample[mh_sample.SMIPP_U>.5].describe()"
   ]
  },
  {
   "cell_type": "code",
   "execution_count": 60,
   "metadata": {
    "collapsed": false
   },
   "outputs": [
    {
     "data": {
      "text/plain": [
       "<matplotlib.axes._subplots.AxesSubplot at 0xb4baa20>"
      ]
     },
     "execution_count": 60,
     "metadata": {},
     "output_type": "execute_result"
    },
    {
     "data": {
      "image/png": "[encoded data removed]",
      "text/plain": [
       "<matplotlib.figure.Figure at 0xb82ca58>"
      ]
     },
     "metadata": {},
     "output_type": "display_data"
    }
   ],
   "source": [
    "#make histograms for categorical vars\n",
    "mh_sample.AMDELT.hist()"
   ]
  },
  {
   "cell_type": "code",
   "execution_count": 61,
   "metadata": {
    "collapsed": false
   },
   "outputs": [
    {
     "data": {
      "text/plain": [
       "<matplotlib.axes._subplots.AxesSubplot at 0xb4d6c50>"
      ]
     },
     "execution_count": 61,
     "metadata": {},
     "output_type": "execute_result"
    },
    {
     "data": {
      "image/png": "[encoded data removed]",
      "text/plain": [
       "<matplotlib.figure.Figure at 0xab5b7f0>"
      ]
     },
     "metadata": {},
     "output_type": "display_data"
    }
   ],
   "source": [
    "mh_sample.AMDEYR.hist()"
   ]
  },
  {
   "cell_type": "code",
   "execution_count": 62,
   "metadata": {
    "collapsed": false
   },
   "outputs": [
    {
     "data": {
      "text/plain": [
       "<matplotlib.axes._subplots.AxesSubplot at 0xab9f550>"
      ]
     },
     "execution_count": 62,
     "metadata": {},
     "output_type": "execute_result"
    },
    {
     "data": {
      "image/png": "[encoded data removed]",
      "text/plain": [
       "<matplotlib.figure.Figure at 0xabdd390>"
      ]
     },
     "metadata": {},
     "output_type": "display_data"
    }
   ],
   "source": [
    "mh_sample.INCOME.hist()"
   ]
  },
  {
   "cell_type": "code",
   "execution_count": 63,
   "metadata": {
    "collapsed": false
   },
   "outputs": [
    {
     "data": {
      "text/plain": [
       "count    5696.000000\n",
       "mean        0.350948\n",
       "std         0.477309\n",
       "min         0.000000\n",
       "25%         0.000000\n",
       "50%         0.000000\n",
       "75%         1.000000\n",
       "max         1.000000\n",
       "Name: IRSEX, dtype: float64"
      ]
     },
     "execution_count": 63,
     "metadata": {},
     "output_type": "execute_result"
    },
    {
     "data": {
      "image/png": "[encoded data removed]",
      "text/plain": [
       "<matplotlib.figure.Figure at 0xa81d320>"
      ]
     },
     "metadata": {},
     "output_type": "display_data"
    }
   ],
   "source": [
    "mh_sample.IRSEX.hist()\n",
    "mh_sample.IRSEX.describe()\n",
    "#now this is interesting, almost two thirds of the sample experiencing serious psychological distress is female"
   ]
  },
  {
   "cell_type": "code",
   "execution_count": 64,
   "metadata": {
    "collapsed": false
   },
   "outputs": [
    {
     "data": {
      "text/plain": [
       "<matplotlib.axes._subplots.AxesSubplot at 0xb7e0080>"
      ]
     },
     "execution_count": 64,
     "metadata": {},
     "output_type": "execute_result"
    },
    {
     "data": {
      "image/png": "[encoded data removed]",
      "text/plain": [
       "<matplotlib.figure.Figure at 0xb769470>"
      ]
     },
     "metadata": {},
     "output_type": "display_data"
    }
   ],
   "source": [
    "mh_sample.IRINSUR4.hist()\n",
    "#most of the sample has some form of insurance"
   ]
  },
  {
   "cell_type": "code",
   "execution_count": 65,
   "metadata": {
    "collapsed": false
   },
   "outputs": [
    {
     "data": {
      "text/plain": [
       "<matplotlib.axes._subplots.AxesSubplot at 0xb3d7160>"
      ]
     },
     "execution_count": 65,
     "metadata": {},
     "output_type": "execute_result"
    },
    {
     "data": {
      "image/png": "[encoded data removed]",
      "text/plain": [
       "<matplotlib.figure.Figure at 0xa81d160>"
      ]
     },
     "metadata": {},
     "output_type": "display_data"
    }
   ],
   "source": [
    "mh_sample.GOVTPROG.hist()\n",
    "#2/3 not in govtprogam"
   ]
  },
  {
   "cell_type": "code",
   "execution_count": 66,
   "metadata": {
    "collapsed": false
   },
   "outputs": [
    {
     "data": {
      "text/plain": [
       "<matplotlib.axes._subplots.AxesSubplot at 0xb4fa0f0>"
      ]
     },
     "execution_count": 66,
     "metadata": {},
     "output_type": "execute_result"
    },
    {
     "data": {
      "image/png": "[encoded data removed]",
      "text/plain": [
       "<matplotlib.figure.Figure at 0xb3b7048>"
      ]
     },
     "metadata": {},
     "output_type": "display_data"
    }
   ],
   "source": [
    "mh_sample.POVERTY2.hist()\n",
    "#a little more than half are living within 2x the poverty level"
   ]
  },
  {
   "cell_type": "code",
   "execution_count": 67,
   "metadata": {
    "collapsed": false
   },
   "outputs": [
    {
     "data": {
      "text/plain": [
       "4.0    0.577774\n",
       "1.0    0.255442\n",
       "3.0    0.144487\n",
       "2.0    0.022296\n",
       "Name: IRMARIT, dtype: float64"
      ]
     },
     "execution_count": 67,
     "metadata": {},
     "output_type": "execute_result"
    },
    {
     "data": {
      "image/png": "[encoded data removed]",
      "text/plain": [
       "<matplotlib.figure.Figure at 0xb4bb4a8>"
      ]
     },
     "metadata": {},
     "output_type": "display_data"
    }
   ],
   "source": [
    "mh_sample.IRMARIT.hist()\n",
    "mh_sample.IRMARIT.value_counts()/mh_sample.IRMARIT.count()\n",
    "#half have never married"
   ]
  },
  {
   "cell_type": "code",
   "execution_count": 68,
   "metadata": {
    "collapsed": false
   },
   "outputs": [
    {
     "data": {
      "text/plain": [
       "2    0.461552\n",
       "4    0.212430\n",
       "3    0.211201\n",
       "5    0.114817\n",
       "Name: CATAG3, dtype: float64"
      ]
     },
     "execution_count": 68,
     "metadata": {},
     "output_type": "execute_result"
    },
    {
     "data": {
      "image/png": "[encoded data removed]",
      "text/plain": [
       "<matplotlib.figure.Figure at 0xb355898>"
      ]
     },
     "metadata": {},
     "output_type": "display_data"
    }
   ],
   "source": [
    "mh_sample.CATAG3.hist(bins=4)\n",
    "mh_sample.CATAG3.value_counts()/mh_sample.CATAG3.count()\n",
    "#compared to distribution of whole survey, age group 18-25 is over-represented"
   ]
  },
  {
   "cell_type": "code",
   "execution_count": 69,
   "metadata": {
    "collapsed": false
   },
   "outputs": [
    {
     "data": {
      "text/plain": [
       "<matplotlib.axes._subplots.AxesSubplot at 0xabfcf60>"
      ]
     },
     "execution_count": 69,
     "metadata": {},
     "output_type": "execute_result"
    },
    {
     "data": {
      "image/png": "[encoded data removed]",
      "text/plain": [
       "<matplotlib.figure.Figure at 0xb344160>"
      ]
     },
     "metadata": {},
     "output_type": "display_data"
    }
   ],
   "source": [
    "mh_sample.NEWRACE2.hist(bins=7)\n",
    "#whole survey race distribution\n",
    "#could be worth performing anova, but distribution looks similar enough\n",
    "#1 = NonHisp White..................................60.67 pct\n",
    "#2 = NonHisp Black/Afr Am ..........................12.11 pct\n",
    "#3 = NonHisp Native Am/AK Native....................1.64 pct\n",
    "#4 = NonHisp Native HI/Other Pac Isl ...............0.54 pct\n",
    "#5 = NonHisp Asian..................................4.26 pct\n",
    "#6 = NonHisp more than one race ....................3.54 pct\n",
    "#7 = Hispanic.......................................17.23 pct"
   ]
  },
  {
   "cell_type": "code",
   "execution_count": 70,
   "metadata": {
    "collapsed": false
   },
   "outputs": [
    {
     "data": {
      "text/plain": [
       "<matplotlib.axes._subplots.AxesSubplot at 0xb77a668>"
      ]
     },
     "execution_count": 70,
     "metadata": {},
     "output_type": "execute_result"
    },
    {
     "data": {
      "image/png": "[encoded data removed]",
      "text/plain": [
       "<matplotlib.figure.Figure at 0xb6d06d8>"
      ]
     },
     "metadata": {},
     "output_type": "display_data"
    }
   ],
   "source": [
    "mh_sample.ATXMDEYR.hist()"
   ]
  },
  {
   "cell_type": "code",
   "execution_count": 71,
   "metadata": {
    "collapsed": false
   },
   "outputs": [
    {
     "data": {
      "text/plain": [
       "<matplotlib.axes._subplots.AxesSubplot at 0xb758320>"
      ]
     },
     "execution_count": 71,
     "metadata": {},
     "output_type": "execute_result"
    },
    {
     "data": {
      "image/png": "[encoded data removed]",
      "text/plain": [
       "<matplotlib.figure.Figure at 0xb3b6b38>"
      ]
     },
     "metadata": {},
     "output_type": "display_data"
    }
   ],
   "source": [
    "mh_sample.HEALTH2.hist()"
   ]
  },
  {
   "cell_type": "code",
   "execution_count": 72,
   "metadata": {
    "collapsed": false
   },
   "outputs": [
    {
     "data": {
      "text/html": [
       "<div>\n",
       "<table border=\"1\" class=\"dataframe\">\n",
       "  <thead>\n",
       "    <tr style=\"text-align: right;\">\n",
       "      <th></th>\n",
       "      <th>TXILALEV</th>\n",
       "      <th>ALCTRMT</th>\n",
       "      <th>ILLTRMT</th>\n",
       "      <th>TXILLALC</th>\n",
       "      <th>TXNDILAL</th>\n",
       "      <th>TXGPILAL</th>\n",
       "      <th>GOVTPROG</th>\n",
       "      <th>INCOME</th>\n",
       "      <th>POVERTY2</th>\n",
       "      <th>IRINSUR4</th>\n",
       "      <th>IRSEX</th>\n",
       "      <th>IRMARIT</th>\n",
       "      <th>CATAG3</th>\n",
       "      <th>NEWRACE2</th>\n",
       "      <th>EDUCCAT2</th>\n",
       "      <th>HEALTH2</th>\n",
       "    </tr>\n",
       "  </thead>\n",
       "  <tbody>\n",
       "    <tr>\n",
       "      <th>count</th>\n",
       "      <td>55271.000000</td>\n",
       "      <td>55271.000000</td>\n",
       "      <td>55271.000000</td>\n",
       "      <td>55271.000000</td>\n",
       "      <td>55271.000000</td>\n",
       "      <td>55271.000000</td>\n",
       "      <td>55271.000000</td>\n",
       "      <td>55271.000000</td>\n",
       "      <td>55271.000000</td>\n",
       "      <td>55271.000000</td>\n",
       "      <td>55271.000000</td>\n",
       "      <td>55271.000000</td>\n",
       "      <td>55271.000000</td>\n",
       "      <td>55271.000000</td>\n",
       "      <td>55271.000000</td>\n",
       "      <td>55271.000000</td>\n",
       "    </tr>\n",
       "    <tr>\n",
       "      <th>mean</th>\n",
       "      <td>0.056485</td>\n",
       "      <td>0.010946</td>\n",
       "      <td>0.011217</td>\n",
       "      <td>0.018093</td>\n",
       "      <td>0.098750</td>\n",
       "      <td>0.087496</td>\n",
       "      <td>1.760164</td>\n",
       "      <td>2.585027</td>\n",
       "      <td>2.277343</td>\n",
       "      <td>1.121854</td>\n",
       "      <td>1.523765</td>\n",
       "      <td>14.387925</td>\n",
       "      <td>2.799533</td>\n",
       "      <td>2.551682</td>\n",
       "      <td>3.270504</td>\n",
       "      <td>2.182428</td>\n",
       "    </tr>\n",
       "    <tr>\n",
       "      <th>std</th>\n",
       "      <td>0.230859</td>\n",
       "      <td>0.104050</td>\n",
       "      <td>0.105318</td>\n",
       "      <td>0.133288</td>\n",
       "      <td>0.298328</td>\n",
       "      <td>0.282563</td>\n",
       "      <td>0.426987</td>\n",
       "      <td>1.138994</td>\n",
       "      <td>1.358044</td>\n",
       "      <td>0.327120</td>\n",
       "      <td>0.499439</td>\n",
       "      <td>31.407447</td>\n",
       "      <td>1.426004</td>\n",
       "      <td>2.366211</td>\n",
       "      <td>1.324381</td>\n",
       "      <td>0.952305</td>\n",
       "    </tr>\n",
       "    <tr>\n",
       "      <th>min</th>\n",
       "      <td>0.000000</td>\n",
       "      <td>0.000000</td>\n",
       "      <td>0.000000</td>\n",
       "      <td>0.000000</td>\n",
       "      <td>0.000000</td>\n",
       "      <td>0.000000</td>\n",
       "      <td>1.000000</td>\n",
       "      <td>1.000000</td>\n",
       "      <td>-9.000000</td>\n",
       "      <td>1.000000</td>\n",
       "      <td>1.000000</td>\n",
       "      <td>1.000000</td>\n",
       "      <td>1.000000</td>\n",
       "      <td>1.000000</td>\n",
       "      <td>1.000000</td>\n",
       "      <td>-9.000000</td>\n",
       "    </tr>\n",
       "    <tr>\n",
       "      <th>25%</th>\n",
       "      <td>0.000000</td>\n",
       "      <td>0.000000</td>\n",
       "      <td>0.000000</td>\n",
       "      <td>0.000000</td>\n",
       "      <td>0.000000</td>\n",
       "      <td>0.000000</td>\n",
       "      <td>2.000000</td>\n",
       "      <td>2.000000</td>\n",
       "      <td>2.000000</td>\n",
       "      <td>1.000000</td>\n",
       "      <td>1.000000</td>\n",
       "      <td>1.000000</td>\n",
       "      <td>2.000000</td>\n",
       "      <td>1.000000</td>\n",
       "      <td>2.000000</td>\n",
       "      <td>1.000000</td>\n",
       "    </tr>\n",
       "    <tr>\n",
       "      <th>50%</th>\n",
       "      <td>0.000000</td>\n",
       "      <td>0.000000</td>\n",
       "      <td>0.000000</td>\n",
       "      <td>0.000000</td>\n",
       "      <td>0.000000</td>\n",
       "      <td>0.000000</td>\n",
       "      <td>2.000000</td>\n",
       "      <td>2.000000</td>\n",
       "      <td>3.000000</td>\n",
       "      <td>1.000000</td>\n",
       "      <td>2.000000</td>\n",
       "      <td>4.000000</td>\n",
       "      <td>3.000000</td>\n",
       "      <td>1.000000</td>\n",
       "      <td>3.000000</td>\n",
       "      <td>2.000000</td>\n",
       "    </tr>\n",
       "    <tr>\n",
       "      <th>75%</th>\n",
       "      <td>0.000000</td>\n",
       "      <td>0.000000</td>\n",
       "      <td>0.000000</td>\n",
       "      <td>0.000000</td>\n",
       "      <td>0.000000</td>\n",
       "      <td>0.000000</td>\n",
       "      <td>2.000000</td>\n",
       "      <td>4.000000</td>\n",
       "      <td>3.000000</td>\n",
       "      <td>1.000000</td>\n",
       "      <td>2.000000</td>\n",
       "      <td>4.000000</td>\n",
       "      <td>4.000000</td>\n",
       "      <td>5.000000</td>\n",
       "      <td>4.000000</td>\n",
       "      <td>3.000000</td>\n",
       "    </tr>\n",
       "    <tr>\n",
       "      <th>max</th>\n",
       "      <td>1.000000</td>\n",
       "      <td>1.000000</td>\n",
       "      <td>1.000000</td>\n",
       "      <td>1.000000</td>\n",
       "      <td>1.000000</td>\n",
       "      <td>1.000000</td>\n",
       "      <td>2.000000</td>\n",
       "      <td>4.000000</td>\n",
       "      <td>3.000000</td>\n",
       "      <td>2.000000</td>\n",
       "      <td>2.000000</td>\n",
       "      <td>99.000000</td>\n",
       "      <td>5.000000</td>\n",
       "      <td>7.000000</td>\n",
       "      <td>5.000000</td>\n",
       "      <td>4.000000</td>\n",
       "    </tr>\n",
       "  </tbody>\n",
       "</table>\n",
       "</div>"
      ],
      "text/plain": [
       "           TXILALEV       ALCTRMT       ILLTRMT      TXILLALC      TXNDILAL  \\\n",
       "count  55271.000000  55271.000000  55271.000000  55271.000000  55271.000000   \n",
       "mean       0.056485      0.010946      0.011217      0.018093      0.098750   \n",
       "std        0.230859      0.104050      0.105318      0.133288      0.298328   \n",
       "min        0.000000      0.000000      0.000000      0.000000      0.000000   \n",
       "25%        0.000000      0.000000      0.000000      0.000000      0.000000   \n",
       "50%        0.000000      0.000000      0.000000      0.000000      0.000000   \n",
       "75%        0.000000      0.000000      0.000000      0.000000      0.000000   \n",
       "max        1.000000      1.000000      1.000000      1.000000      1.000000   \n",
       "\n",
       "           TXGPILAL      GOVTPROG        INCOME      POVERTY2      IRINSUR4  \\\n",
       "count  55271.000000  55271.000000  55271.000000  55271.000000  55271.000000   \n",
       "mean       0.087496      1.760164      2.585027      2.277343      1.121854   \n",
       "std        0.282563      0.426987      1.138994      1.358044      0.327120   \n",
       "min        0.000000      1.000000      1.000000     -9.000000      1.000000   \n",
       "25%        0.000000      2.000000      2.000000      2.000000      1.000000   \n",
       "50%        0.000000      2.000000      2.000000      3.000000      1.000000   \n",
       "75%        0.000000      2.000000      4.000000      3.000000      1.000000   \n",
       "max        1.000000      2.000000      4.000000      3.000000      2.000000   \n",
       "\n",
       "              IRSEX       IRMARIT        CATAG3      NEWRACE2      EDUCCAT2  \\\n",
       "count  55271.000000  55271.000000  55271.000000  55271.000000  55271.000000   \n",
       "mean       1.523765     14.387925      2.799533      2.551682      3.270504   \n",
       "std        0.499439     31.407447      1.426004      2.366211      1.324381   \n",
       "min        1.000000      1.000000      1.000000      1.000000      1.000000   \n",
       "25%        1.000000      1.000000      2.000000      1.000000      2.000000   \n",
       "50%        2.000000      4.000000      3.000000      1.000000      3.000000   \n",
       "75%        2.000000      4.000000      4.000000      5.000000      4.000000   \n",
       "max        2.000000     99.000000      5.000000      7.000000      5.000000   \n",
       "\n",
       "            HEALTH2  \n",
       "count  55271.000000  \n",
       "mean       2.182428  \n",
       "std        0.952305  \n",
       "min       -9.000000  \n",
       "25%        1.000000  \n",
       "50%        2.000000  \n",
       "75%        3.000000  \n",
       "max        4.000000  "
      ]
     },
     "execution_count": 72,
     "metadata": {},
     "output_type": "execute_result"
    }
   ],
   "source": [
    "#Substance: Among those who are coded TXNDILAL = 1(subsample of 5458 who need sub trtmnt),\n",
    "#find predictors of TXILLALC =1(received sub trtmnt past year)\n",
    "\n",
    "#TXNDILAL is grouping var, TXILLALC is response var, others are possible predictors\n",
    "subdiag_cols = ['CASEID','TXNDILAL','TXGPILAL','TXILALEV','TXILLALC','ALCTRMT','ILLTRMT',\n",
    "                'IRINSUR4','GOVTPROG','INCOME','POVERTY2','IRSEX','IRMARIT','HEALTH2',\n",
    "                'CATAG3','NEWRACE2','EDUCCAT2']\n",
    "Substance_Diagnostics = pd.read_csv('C:/Users/Cody/Downloads/NSDUH/2014/NSDUH-2014-DS0001-data/NSDUH-2014-DS0001-data-excel.tsv',usecols=subdiag_cols, sep='\\t', index_col=0)\n",
    "Substance_Diagnostics.describe()"
   ]
  },
  {
   "cell_type": "code",
   "execution_count": 73,
   "metadata": {
    "collapsed": false
   },
   "outputs": [
    {
     "data": {
      "text/html": [
       "<div>\n",
       "<table border=\"1\" class=\"dataframe\">\n",
       "  <thead>\n",
       "    <tr style=\"text-align: right;\">\n",
       "      <th></th>\n",
       "      <th>TXILALEV</th>\n",
       "      <th>ALCTRMT</th>\n",
       "      <th>ILLTRMT</th>\n",
       "      <th>TXILLALC</th>\n",
       "      <th>TXNDILAL</th>\n",
       "      <th>TXGPILAL</th>\n",
       "      <th>GOVTPROG</th>\n",
       "      <th>INCOME</th>\n",
       "      <th>POVERTY2</th>\n",
       "      <th>IRINSUR4</th>\n",
       "      <th>IRSEX</th>\n",
       "      <th>IRMARIT</th>\n",
       "      <th>CATAG3</th>\n",
       "      <th>NEWRACE2</th>\n",
       "      <th>EDUCCAT2</th>\n",
       "      <th>HEALTH2</th>\n",
       "    </tr>\n",
       "  </thead>\n",
       "  <tbody>\n",
       "    <tr>\n",
       "      <th>count</th>\n",
       "      <td>55271.000000</td>\n",
       "      <td>55271.000000</td>\n",
       "      <td>55271.000000</td>\n",
       "      <td>55271.000000</td>\n",
       "      <td>55271.000000</td>\n",
       "      <td>55271.000000</td>\n",
       "      <td>55271.000000</td>\n",
       "      <td>55271.000000</td>\n",
       "      <td>54751.000000</td>\n",
       "      <td>55271.000000</td>\n",
       "      <td>55271.000000</td>\n",
       "      <td>48588.000000</td>\n",
       "      <td>55271.000000</td>\n",
       "      <td>55271.000000</td>\n",
       "      <td>55271.000000</td>\n",
       "      <td>55251.000000</td>\n",
       "    </tr>\n",
       "    <tr>\n",
       "      <th>mean</th>\n",
       "      <td>0.056485</td>\n",
       "      <td>0.010946</td>\n",
       "      <td>0.011217</td>\n",
       "      <td>0.018093</td>\n",
       "      <td>0.098750</td>\n",
       "      <td>0.087496</td>\n",
       "      <td>0.239836</td>\n",
       "      <td>2.585027</td>\n",
       "      <td>2.384450</td>\n",
       "      <td>0.878146</td>\n",
       "      <td>0.476235</td>\n",
       "      <td>2.750021</td>\n",
       "      <td>2.799533</td>\n",
       "      <td>2.551682</td>\n",
       "      <td>3.270504</td>\n",
       "      <td>2.186476</td>\n",
       "    </tr>\n",
       "    <tr>\n",
       "      <th>std</th>\n",
       "      <td>0.230859</td>\n",
       "      <td>0.104050</td>\n",
       "      <td>0.105318</td>\n",
       "      <td>0.133288</td>\n",
       "      <td>0.298328</td>\n",
       "      <td>0.282563</td>\n",
       "      <td>0.426987</td>\n",
       "      <td>1.138994</td>\n",
       "      <td>0.801514</td>\n",
       "      <td>0.327120</td>\n",
       "      <td>0.499439</td>\n",
       "      <td>1.391708</td>\n",
       "      <td>1.426004</td>\n",
       "      <td>2.366211</td>\n",
       "      <td>1.324381</td>\n",
       "      <td>0.928403</td>\n",
       "    </tr>\n",
       "    <tr>\n",
       "      <th>min</th>\n",
       "      <td>0.000000</td>\n",
       "      <td>0.000000</td>\n",
       "      <td>0.000000</td>\n",
       "      <td>0.000000</td>\n",
       "      <td>0.000000</td>\n",
       "      <td>0.000000</td>\n",
       "      <td>0.000000</td>\n",
       "      <td>1.000000</td>\n",
       "      <td>1.000000</td>\n",
       "      <td>0.000000</td>\n",
       "      <td>0.000000</td>\n",
       "      <td>1.000000</td>\n",
       "      <td>1.000000</td>\n",
       "      <td>1.000000</td>\n",
       "      <td>1.000000</td>\n",
       "      <td>1.000000</td>\n",
       "    </tr>\n",
       "    <tr>\n",
       "      <th>25%</th>\n",
       "      <td>0.000000</td>\n",
       "      <td>0.000000</td>\n",
       "      <td>0.000000</td>\n",
       "      <td>0.000000</td>\n",
       "      <td>0.000000</td>\n",
       "      <td>0.000000</td>\n",
       "      <td>0.000000</td>\n",
       "      <td>2.000000</td>\n",
       "      <td>2.000000</td>\n",
       "      <td>1.000000</td>\n",
       "      <td>0.000000</td>\n",
       "      <td>1.000000</td>\n",
       "      <td>2.000000</td>\n",
       "      <td>1.000000</td>\n",
       "      <td>2.000000</td>\n",
       "      <td>1.000000</td>\n",
       "    </tr>\n",
       "    <tr>\n",
       "      <th>50%</th>\n",
       "      <td>0.000000</td>\n",
       "      <td>0.000000</td>\n",
       "      <td>0.000000</td>\n",
       "      <td>0.000000</td>\n",
       "      <td>0.000000</td>\n",
       "      <td>0.000000</td>\n",
       "      <td>0.000000</td>\n",
       "      <td>2.000000</td>\n",
       "      <td>3.000000</td>\n",
       "      <td>1.000000</td>\n",
       "      <td>0.000000</td>\n",
       "      <td>4.000000</td>\n",
       "      <td>3.000000</td>\n",
       "      <td>1.000000</td>\n",
       "      <td>3.000000</td>\n",
       "      <td>2.000000</td>\n",
       "    </tr>\n",
       "    <tr>\n",
       "      <th>75%</th>\n",
       "      <td>0.000000</td>\n",
       "      <td>0.000000</td>\n",
       "      <td>0.000000</td>\n",
       "      <td>0.000000</td>\n",
       "      <td>0.000000</td>\n",
       "      <td>0.000000</td>\n",
       "      <td>0.000000</td>\n",
       "      <td>4.000000</td>\n",
       "      <td>3.000000</td>\n",
       "      <td>1.000000</td>\n",
       "      <td>1.000000</td>\n",
       "      <td>4.000000</td>\n",
       "      <td>4.000000</td>\n",
       "      <td>5.000000</td>\n",
       "      <td>4.000000</td>\n",
       "      <td>3.000000</td>\n",
       "    </tr>\n",
       "    <tr>\n",
       "      <th>max</th>\n",
       "      <td>1.000000</td>\n",
       "      <td>1.000000</td>\n",
       "      <td>1.000000</td>\n",
       "      <td>1.000000</td>\n",
       "      <td>1.000000</td>\n",
       "      <td>1.000000</td>\n",
       "      <td>1.000000</td>\n",
       "      <td>4.000000</td>\n",
       "      <td>3.000000</td>\n",
       "      <td>1.000000</td>\n",
       "      <td>1.000000</td>\n",
       "      <td>4.000000</td>\n",
       "      <td>5.000000</td>\n",
       "      <td>7.000000</td>\n",
       "      <td>5.000000</td>\n",
       "      <td>4.000000</td>\n",
       "    </tr>\n",
       "  </tbody>\n",
       "</table>\n",
       "</div>"
      ],
      "text/plain": [
       "           TXILALEV       ALCTRMT       ILLTRMT      TXILLALC      TXNDILAL  \\\n",
       "count  55271.000000  55271.000000  55271.000000  55271.000000  55271.000000   \n",
       "mean       0.056485      0.010946      0.011217      0.018093      0.098750   \n",
       "std        0.230859      0.104050      0.105318      0.133288      0.298328   \n",
       "min        0.000000      0.000000      0.000000      0.000000      0.000000   \n",
       "25%        0.000000      0.000000      0.000000      0.000000      0.000000   \n",
       "50%        0.000000      0.000000      0.000000      0.000000      0.000000   \n",
       "75%        0.000000      0.000000      0.000000      0.000000      0.000000   \n",
       "max        1.000000      1.000000      1.000000      1.000000      1.000000   \n",
       "\n",
       "           TXGPILAL      GOVTPROG        INCOME      POVERTY2      IRINSUR4  \\\n",
       "count  55271.000000  55271.000000  55271.000000  54751.000000  55271.000000   \n",
       "mean       0.087496      0.239836      2.585027      2.384450      0.878146   \n",
       "std        0.282563      0.426987      1.138994      0.801514      0.327120   \n",
       "min        0.000000      0.000000      1.000000      1.000000      0.000000   \n",
       "25%        0.000000      0.000000      2.000000      2.000000      1.000000   \n",
       "50%        0.000000      0.000000      2.000000      3.000000      1.000000   \n",
       "75%        0.000000      0.000000      4.000000      3.000000      1.000000   \n",
       "max        1.000000      1.000000      4.000000      3.000000      1.000000   \n",
       "\n",
       "              IRSEX       IRMARIT        CATAG3      NEWRACE2      EDUCCAT2  \\\n",
       "count  55271.000000  48588.000000  55271.000000  55271.000000  55271.000000   \n",
       "mean       0.476235      2.750021      2.799533      2.551682      3.270504   \n",
       "std        0.499439      1.391708      1.426004      2.366211      1.324381   \n",
       "min        0.000000      1.000000      1.000000      1.000000      1.000000   \n",
       "25%        0.000000      1.000000      2.000000      1.000000      2.000000   \n",
       "50%        0.000000      4.000000      3.000000      1.000000      3.000000   \n",
       "75%        1.000000      4.000000      4.000000      5.000000      4.000000   \n",
       "max        1.000000      4.000000      5.000000      7.000000      5.000000   \n",
       "\n",
       "            HEALTH2  \n",
       "count  55251.000000  \n",
       "mean       2.186476  \n",
       "std        0.928403  \n",
       "min        1.000000  \n",
       "25%        1.000000  \n",
       "50%        2.000000  \n",
       "75%        3.000000  \n",
       "max        4.000000  "
      ]
     },
     "execution_count": 73,
     "metadata": {},
     "output_type": "execute_result"
    }
   ],
   "source": [
    "#change to N/A for missing data\n",
    "Substance_Diagnostics.replace(-9, np.nan, inplace=True)\n",
    "Substance_Diagnostics.IRMARIT.replace(99,np.nan,inplace=True)#1-married,2-widowed,3-seperated/div,4-never married\n",
    "#change vars coded 1:yes, 2:no --> 1:yes, 0:no \n",
    "Substance_Diagnostics.GOVTPROG.replace(2,0,inplace=True)#participated in govt assistance program\n",
    "Substance_Diagnostics.IRINSUR4.replace(2,0,inplace=True)#1-has insurance, 0-no insurance\n",
    "Substance_Diagnostics.IRSEX.replace(2,0,inplace=True)#1-male, 0-female\n",
    "Substance_Diagnostics.describe()"
   ]
  },
  {
   "cell_type": "code",
   "execution_count": null,
   "metadata": {
    "collapsed": false
   },
   "outputs": [],
   "source": []
  },
  {
   "cell_type": "code",
   "execution_count": 74,
   "metadata": {
    "collapsed": false
   },
   "outputs": [
    {
     "data": {
      "text/html": [
       "<div>\n",
       "<table border=\"1\" class=\"dataframe\">\n",
       "  <thead>\n",
       "    <tr style=\"text-align: right;\">\n",
       "      <th></th>\n",
       "      <th>TXILALEV</th>\n",
       "      <th>ALCTRMT</th>\n",
       "      <th>ILLTRMT</th>\n",
       "      <th>TXILLALC</th>\n",
       "      <th>TXNDILAL</th>\n",
       "      <th>TXGPILAL</th>\n",
       "      <th>GOVTPROG</th>\n",
       "      <th>INCOME</th>\n",
       "      <th>POVERTY2</th>\n",
       "      <th>IRINSUR4</th>\n",
       "      <th>IRSEX</th>\n",
       "      <th>IRMARIT</th>\n",
       "      <th>CATAG3</th>\n",
       "      <th>NEWRACE2</th>\n",
       "      <th>EDUCCAT2</th>\n",
       "      <th>HEALTH2</th>\n",
       "    </tr>\n",
       "  </thead>\n",
       "  <tbody>\n",
       "    <tr>\n",
       "      <th>count</th>\n",
       "      <td>5458.000000</td>\n",
       "      <td>5458.000000</td>\n",
       "      <td>5458.000000</td>\n",
       "      <td>5458.000000</td>\n",
       "      <td>5458.0</td>\n",
       "      <td>5458.000000</td>\n",
       "      <td>5458.000000</td>\n",
       "      <td>5458.000000</td>\n",
       "      <td>5360.000000</td>\n",
       "      <td>5458.000000</td>\n",
       "      <td>5458.000000</td>\n",
       "      <td>5331.000000</td>\n",
       "      <td>5458.000000</td>\n",
       "      <td>5458.000000</td>\n",
       "      <td>5458.000000</td>\n",
       "      <td>5458.000000</td>\n",
       "    </tr>\n",
       "    <tr>\n",
       "      <th>mean</th>\n",
       "      <td>0.256871</td>\n",
       "      <td>0.091425</td>\n",
       "      <td>0.098021</td>\n",
       "      <td>0.146757</td>\n",
       "      <td>1.0</td>\n",
       "      <td>0.886039</td>\n",
       "      <td>0.288750</td>\n",
       "      <td>2.359106</td>\n",
       "      <td>2.272761</td>\n",
       "      <td>0.818615</td>\n",
       "      <td>0.594357</td>\n",
       "      <td>3.294504</td>\n",
       "      <td>2.649872</td>\n",
       "      <td>2.507145</td>\n",
       "      <td>2.942287</td>\n",
       "      <td>2.370099</td>\n",
       "    </tr>\n",
       "    <tr>\n",
       "      <th>std</th>\n",
       "      <td>0.436947</td>\n",
       "      <td>0.288240</td>\n",
       "      <td>0.297371</td>\n",
       "      <td>0.353896</td>\n",
       "      <td>0.0</td>\n",
       "      <td>0.317793</td>\n",
       "      <td>0.453223</td>\n",
       "      <td>1.137122</td>\n",
       "      <td>0.835982</td>\n",
       "      <td>0.385372</td>\n",
       "      <td>0.491061</td>\n",
       "      <td>1.179693</td>\n",
       "      <td>1.152469</td>\n",
       "      <td>2.337174</td>\n",
       "      <td>1.245319</td>\n",
       "      <td>0.921154</td>\n",
       "    </tr>\n",
       "    <tr>\n",
       "      <th>min</th>\n",
       "      <td>0.000000</td>\n",
       "      <td>0.000000</td>\n",
       "      <td>0.000000</td>\n",
       "      <td>0.000000</td>\n",
       "      <td>1.0</td>\n",
       "      <td>0.000000</td>\n",
       "      <td>0.000000</td>\n",
       "      <td>1.000000</td>\n",
       "      <td>1.000000</td>\n",
       "      <td>0.000000</td>\n",
       "      <td>0.000000</td>\n",
       "      <td>1.000000</td>\n",
       "      <td>1.000000</td>\n",
       "      <td>1.000000</td>\n",
       "      <td>1.000000</td>\n",
       "      <td>1.000000</td>\n",
       "    </tr>\n",
       "    <tr>\n",
       "      <th>25%</th>\n",
       "      <td>0.000000</td>\n",
       "      <td>0.000000</td>\n",
       "      <td>0.000000</td>\n",
       "      <td>0.000000</td>\n",
       "      <td>1.0</td>\n",
       "      <td>1.000000</td>\n",
       "      <td>0.000000</td>\n",
       "      <td>1.000000</td>\n",
       "      <td>1.000000</td>\n",
       "      <td>1.000000</td>\n",
       "      <td>0.000000</td>\n",
       "      <td>3.000000</td>\n",
       "      <td>2.000000</td>\n",
       "      <td>1.000000</td>\n",
       "      <td>2.000000</td>\n",
       "      <td>2.000000</td>\n",
       "    </tr>\n",
       "    <tr>\n",
       "      <th>50%</th>\n",
       "      <td>0.000000</td>\n",
       "      <td>0.000000</td>\n",
       "      <td>0.000000</td>\n",
       "      <td>0.000000</td>\n",
       "      <td>1.0</td>\n",
       "      <td>1.000000</td>\n",
       "      <td>0.000000</td>\n",
       "      <td>2.000000</td>\n",
       "      <td>3.000000</td>\n",
       "      <td>1.000000</td>\n",
       "      <td>1.000000</td>\n",
       "      <td>4.000000</td>\n",
       "      <td>2.000000</td>\n",
       "      <td>1.000000</td>\n",
       "      <td>3.000000</td>\n",
       "      <td>2.000000</td>\n",
       "    </tr>\n",
       "    <tr>\n",
       "      <th>75%</th>\n",
       "      <td>1.000000</td>\n",
       "      <td>0.000000</td>\n",
       "      <td>0.000000</td>\n",
       "      <td>0.000000</td>\n",
       "      <td>1.0</td>\n",
       "      <td>1.000000</td>\n",
       "      <td>1.000000</td>\n",
       "      <td>3.000000</td>\n",
       "      <td>3.000000</td>\n",
       "      <td>1.000000</td>\n",
       "      <td>1.000000</td>\n",
       "      <td>4.000000</td>\n",
       "      <td>4.000000</td>\n",
       "      <td>3.000000</td>\n",
       "      <td>4.000000</td>\n",
       "      <td>3.000000</td>\n",
       "    </tr>\n",
       "    <tr>\n",
       "      <th>max</th>\n",
       "      <td>1.000000</td>\n",
       "      <td>1.000000</td>\n",
       "      <td>1.000000</td>\n",
       "      <td>1.000000</td>\n",
       "      <td>1.0</td>\n",
       "      <td>1.000000</td>\n",
       "      <td>1.000000</td>\n",
       "      <td>4.000000</td>\n",
       "      <td>3.000000</td>\n",
       "      <td>1.000000</td>\n",
       "      <td>1.000000</td>\n",
       "      <td>4.000000</td>\n",
       "      <td>5.000000</td>\n",
       "      <td>7.000000</td>\n",
       "      <td>5.000000</td>\n",
       "      <td>4.000000</td>\n",
       "    </tr>\n",
       "  </tbody>\n",
       "</table>\n",
       "</div>"
      ],
      "text/plain": [
       "          TXILALEV      ALCTRMT      ILLTRMT     TXILLALC  TXNDILAL  \\\n",
       "count  5458.000000  5458.000000  5458.000000  5458.000000    5458.0   \n",
       "mean      0.256871     0.091425     0.098021     0.146757       1.0   \n",
       "std       0.436947     0.288240     0.297371     0.353896       0.0   \n",
       "min       0.000000     0.000000     0.000000     0.000000       1.0   \n",
       "25%       0.000000     0.000000     0.000000     0.000000       1.0   \n",
       "50%       0.000000     0.000000     0.000000     0.000000       1.0   \n",
       "75%       1.000000     0.000000     0.000000     0.000000       1.0   \n",
       "max       1.000000     1.000000     1.000000     1.000000       1.0   \n",
       "\n",
       "          TXGPILAL     GOVTPROG       INCOME     POVERTY2     IRINSUR4  \\\n",
       "count  5458.000000  5458.000000  5458.000000  5360.000000  5458.000000   \n",
       "mean      0.886039     0.288750     2.359106     2.272761     0.818615   \n",
       "std       0.317793     0.453223     1.137122     0.835982     0.385372   \n",
       "min       0.000000     0.000000     1.000000     1.000000     0.000000   \n",
       "25%       1.000000     0.000000     1.000000     1.000000     1.000000   \n",
       "50%       1.000000     0.000000     2.000000     3.000000     1.000000   \n",
       "75%       1.000000     1.000000     3.000000     3.000000     1.000000   \n",
       "max       1.000000     1.000000     4.000000     3.000000     1.000000   \n",
       "\n",
       "             IRSEX      IRMARIT       CATAG3     NEWRACE2     EDUCCAT2  \\\n",
       "count  5458.000000  5331.000000  5458.000000  5458.000000  5458.000000   \n",
       "mean      0.594357     3.294504     2.649872     2.507145     2.942287   \n",
       "std       0.491061     1.179693     1.152469     2.337174     1.245319   \n",
       "min       0.000000     1.000000     1.000000     1.000000     1.000000   \n",
       "25%       0.000000     3.000000     2.000000     1.000000     2.000000   \n",
       "50%       1.000000     4.000000     2.000000     1.000000     3.000000   \n",
       "75%       1.000000     4.000000     4.000000     3.000000     4.000000   \n",
       "max       1.000000     4.000000     5.000000     7.000000     5.000000   \n",
       "\n",
       "           HEALTH2  \n",
       "count  5458.000000  \n",
       "mean      2.370099  \n",
       "std       0.921154  \n",
       "min       1.000000  \n",
       "25%       2.000000  \n",
       "50%       2.000000  \n",
       "75%       3.000000  \n",
       "max       4.000000  "
      ]
     },
     "execution_count": 74,
     "metadata": {},
     "output_type": "execute_result"
    }
   ],
   "source": [
    "#TXNDILAL is coded 1 if an individual meets any of the following three criteria\n",
    "#1. Dependent on any illicit drug or alcohol in the past year (DPILLALC=1).\n",
    "#2. Illicit drug or alcohol abuse in the past year (ABILLALC=1).\n",
    "#3. Received treatment for illicit drug or alcohol use at a specialty facility in the past year including a hospital (inpatient),\n",
    "#rehabilitation facility (in or outpatient), or mental health center (SPILLALC=1).\n",
    "sub_sample = Substance_Diagnostics[Substance_Diagnostics.TXNDILAL == 1]\n",
    "sub_sample.describe()"
   ]
  },
  {
   "cell_type": "code",
   "execution_count": 75,
   "metadata": {
    "collapsed": false
   },
   "outputs": [
    {
     "data": {
      "text/plain": [
       "0    0.853243\n",
       "1    0.146757\n",
       "Name: TXILLALC, dtype: float64"
      ]
     },
     "execution_count": 75,
     "metadata": {},
     "output_type": "execute_result"
    },
    {
     "data": {
      "image/png": "[encoded data removed]",
      "text/plain": [
       "<matplotlib.figure.Figure at 0xb402b70>"
      ]
     },
     "metadata": {},
     "output_type": "display_data"
    }
   ],
   "source": [
    "sub_sample.TXILLALC.hist(bins=2,edgecolor='w',lw=1)\n",
    "sub_sample.TXILLALC.value_counts()/sub_sample.TXILLALC.count()\n",
    "#85 pct of those who have substance abuse/dependence do not receive treatment for it"
   ]
  },
  {
   "cell_type": "code",
   "execution_count": 76,
   "metadata": {
    "collapsed": true
   },
   "outputs": [],
   "source": [
    "#grouped by the response variable TXILLALC (received trt for sub abuse/dependence)\n",
    "recv_sub = sub_sample[sub_sample.TXILLALC == 1] #801 adults who recv trt for sub abuse/dependence that need it\n",
    "no_sub = sub_sample[sub_sample.TXILLALC == 0] #4657 adults who get no trt for sub abuse/dependence that need it"
   ]
  },
  {
   "cell_type": "code",
   "execution_count": 77,
   "metadata": {
    "collapsed": false
   },
   "outputs": [
    {
     "data": {
      "text/html": [
       "<div>\n",
       "<table border=\"1\" class=\"dataframe\">\n",
       "  <thead>\n",
       "    <tr style=\"text-align: right;\">\n",
       "      <th></th>\n",
       "      <th>TXILALEV</th>\n",
       "      <th>ALCTRMT</th>\n",
       "      <th>ILLTRMT</th>\n",
       "      <th>TXILLALC</th>\n",
       "      <th>TXNDILAL</th>\n",
       "      <th>TXGPILAL</th>\n",
       "      <th>GOVTPROG</th>\n",
       "      <th>INCOME</th>\n",
       "      <th>POVERTY2</th>\n",
       "      <th>IRINSUR4</th>\n",
       "      <th>IRSEX</th>\n",
       "      <th>IRMARIT</th>\n",
       "      <th>CATAG3</th>\n",
       "      <th>NEWRACE2</th>\n",
       "      <th>EDUCCAT2</th>\n",
       "      <th>HEALTH2</th>\n",
       "    </tr>\n",
       "  </thead>\n",
       "  <tbody>\n",
       "    <tr>\n",
       "      <th>count</th>\n",
       "      <td>4657.000000</td>\n",
       "      <td>4657.0</td>\n",
       "      <td>4657.0</td>\n",
       "      <td>4657.0</td>\n",
       "      <td>4657.0</td>\n",
       "      <td>4657.0</td>\n",
       "      <td>4657.000000</td>\n",
       "      <td>4657.000000</td>\n",
       "      <td>4564.000000</td>\n",
       "      <td>4657.000000</td>\n",
       "      <td>4657.000000</td>\n",
       "      <td>4551.000000</td>\n",
       "      <td>4657.000000</td>\n",
       "      <td>4657.000000</td>\n",
       "      <td>4657.000000</td>\n",
       "      <td>4657.000000</td>\n",
       "    </tr>\n",
       "    <tr>\n",
       "      <th>mean</th>\n",
       "      <td>0.129053</td>\n",
       "      <td>0.0</td>\n",
       "      <td>0.0</td>\n",
       "      <td>0.0</td>\n",
       "      <td>1.0</td>\n",
       "      <td>1.0</td>\n",
       "      <td>0.258750</td>\n",
       "      <td>2.408632</td>\n",
       "      <td>2.315294</td>\n",
       "      <td>0.821988</td>\n",
       "      <td>0.595877</td>\n",
       "      <td>3.292024</td>\n",
       "      <td>2.626798</td>\n",
       "      <td>2.531243</td>\n",
       "      <td>2.987116</td>\n",
       "      <td>2.332403</td>\n",
       "    </tr>\n",
       "    <tr>\n",
       "      <th>std</th>\n",
       "      <td>0.335295</td>\n",
       "      <td>0.0</td>\n",
       "      <td>0.0</td>\n",
       "      <td>0.0</td>\n",
       "      <td>0.0</td>\n",
       "      <td>0.0</td>\n",
       "      <td>0.437995</td>\n",
       "      <td>1.138156</td>\n",
       "      <td>0.822819</td>\n",
       "      <td>0.382564</td>\n",
       "      <td>0.490774</td>\n",
       "      <td>1.190521</td>\n",
       "      <td>1.138156</td>\n",
       "      <td>2.356158</td>\n",
       "      <td>1.230800</td>\n",
       "      <td>0.913511</td>\n",
       "    </tr>\n",
       "    <tr>\n",
       "      <th>min</th>\n",
       "      <td>0.000000</td>\n",
       "      <td>0.0</td>\n",
       "      <td>0.0</td>\n",
       "      <td>0.0</td>\n",
       "      <td>1.0</td>\n",
       "      <td>1.0</td>\n",
       "      <td>0.000000</td>\n",
       "      <td>1.000000</td>\n",
       "      <td>1.000000</td>\n",
       "      <td>0.000000</td>\n",
       "      <td>0.000000</td>\n",
       "      <td>1.000000</td>\n",
       "      <td>1.000000</td>\n",
       "      <td>1.000000</td>\n",
       "      <td>1.000000</td>\n",
       "      <td>1.000000</td>\n",
       "    </tr>\n",
       "    <tr>\n",
       "      <th>25%</th>\n",
       "      <td>0.000000</td>\n",
       "      <td>0.0</td>\n",
       "      <td>0.0</td>\n",
       "      <td>0.0</td>\n",
       "      <td>1.0</td>\n",
       "      <td>1.0</td>\n",
       "      <td>0.000000</td>\n",
       "      <td>1.000000</td>\n",
       "      <td>2.000000</td>\n",
       "      <td>1.000000</td>\n",
       "      <td>0.000000</td>\n",
       "      <td>3.000000</td>\n",
       "      <td>2.000000</td>\n",
       "      <td>1.000000</td>\n",
       "      <td>2.000000</td>\n",
       "      <td>2.000000</td>\n",
       "    </tr>\n",
       "    <tr>\n",
       "      <th>50%</th>\n",
       "      <td>0.000000</td>\n",
       "      <td>0.0</td>\n",
       "      <td>0.0</td>\n",
       "      <td>0.0</td>\n",
       "      <td>1.0</td>\n",
       "      <td>1.0</td>\n",
       "      <td>0.000000</td>\n",
       "      <td>2.000000</td>\n",
       "      <td>3.000000</td>\n",
       "      <td>1.000000</td>\n",
       "      <td>1.000000</td>\n",
       "      <td>4.000000</td>\n",
       "      <td>2.000000</td>\n",
       "      <td>1.000000</td>\n",
       "      <td>3.000000</td>\n",
       "      <td>2.000000</td>\n",
       "    </tr>\n",
       "    <tr>\n",
       "      <th>75%</th>\n",
       "      <td>0.000000</td>\n",
       "      <td>0.0</td>\n",
       "      <td>0.0</td>\n",
       "      <td>0.0</td>\n",
       "      <td>1.0</td>\n",
       "      <td>1.0</td>\n",
       "      <td>1.000000</td>\n",
       "      <td>4.000000</td>\n",
       "      <td>3.000000</td>\n",
       "      <td>1.000000</td>\n",
       "      <td>1.000000</td>\n",
       "      <td>4.000000</td>\n",
       "      <td>3.000000</td>\n",
       "      <td>3.000000</td>\n",
       "      <td>4.000000</td>\n",
       "      <td>3.000000</td>\n",
       "    </tr>\n",
       "    <tr>\n",
       "      <th>max</th>\n",
       "      <td>1.000000</td>\n",
       "      <td>0.0</td>\n",
       "      <td>0.0</td>\n",
       "      <td>0.0</td>\n",
       "      <td>1.0</td>\n",
       "      <td>1.0</td>\n",
       "      <td>1.000000</td>\n",
       "      <td>4.000000</td>\n",
       "      <td>3.000000</td>\n",
       "      <td>1.000000</td>\n",
       "      <td>1.000000</td>\n",
       "      <td>4.000000</td>\n",
       "      <td>5.000000</td>\n",
       "      <td>7.000000</td>\n",
       "      <td>5.000000</td>\n",
       "      <td>4.000000</td>\n",
       "    </tr>\n",
       "  </tbody>\n",
       "</table>\n",
       "</div>"
      ],
      "text/plain": [
       "          TXILALEV  ALCTRMT  ILLTRMT  TXILLALC  TXNDILAL  TXGPILAL  \\\n",
       "count  4657.000000   4657.0   4657.0    4657.0    4657.0    4657.0   \n",
       "mean      0.129053      0.0      0.0       0.0       1.0       1.0   \n",
       "std       0.335295      0.0      0.0       0.0       0.0       0.0   \n",
       "min       0.000000      0.0      0.0       0.0       1.0       1.0   \n",
       "25%       0.000000      0.0      0.0       0.0       1.0       1.0   \n",
       "50%       0.000000      0.0      0.0       0.0       1.0       1.0   \n",
       "75%       0.000000      0.0      0.0       0.0       1.0       1.0   \n",
       "max       1.000000      0.0      0.0       0.0       1.0       1.0   \n",
       "\n",
       "          GOVTPROG       INCOME     POVERTY2     IRINSUR4        IRSEX  \\\n",
       "count  4657.000000  4657.000000  4564.000000  4657.000000  4657.000000   \n",
       "mean      0.258750     2.408632     2.315294     0.821988     0.595877   \n",
       "std       0.437995     1.138156     0.822819     0.382564     0.490774   \n",
       "min       0.000000     1.000000     1.000000     0.000000     0.000000   \n",
       "25%       0.000000     1.000000     2.000000     1.000000     0.000000   \n",
       "50%       0.000000     2.000000     3.000000     1.000000     1.000000   \n",
       "75%       1.000000     4.000000     3.000000     1.000000     1.000000   \n",
       "max       1.000000     4.000000     3.000000     1.000000     1.000000   \n",
       "\n",
       "           IRMARIT       CATAG3     NEWRACE2     EDUCCAT2      HEALTH2  \n",
       "count  4551.000000  4657.000000  4657.000000  4657.000000  4657.000000  \n",
       "mean      3.292024     2.626798     2.531243     2.987116     2.332403  \n",
       "std       1.190521     1.138156     2.356158     1.230800     0.913511  \n",
       "min       1.000000     1.000000     1.000000     1.000000     1.000000  \n",
       "25%       3.000000     2.000000     1.000000     2.000000     2.000000  \n",
       "50%       4.000000     2.000000     1.000000     3.000000     2.000000  \n",
       "75%       4.000000     3.000000     3.000000     4.000000     3.000000  \n",
       "max       4.000000     5.000000     7.000000     5.000000     4.000000  "
      ]
     },
     "execution_count": 77,
     "metadata": {},
     "output_type": "execute_result"
    }
   ],
   "source": [
    "no_sub.describe()"
   ]
  },
  {
   "cell_type": "code",
   "execution_count": 78,
   "metadata": {
    "collapsed": false
   },
   "outputs": [
    {
     "data": {
      "text/plain": [
       "1    0.622971\n",
       "0    0.377029\n",
       "Name: ALCTRMT, dtype: float64"
      ]
     },
     "execution_count": 78,
     "metadata": {},
     "output_type": "execute_result"
    },
    {
     "data": {
      "image/png": "[encoded data removed]",
      "text/plain": [
       "<matplotlib.figure.Figure at 0xb685c50>"
      ]
     },
     "metadata": {},
     "output_type": "display_data"
    }
   ],
   "source": [
    "recv_sub.ALCTRMT.hist()\n",
    "recv_sub.ALCTRMT.value_counts()/recv_sub.ALCTRMT.count()\n",
    "#62 pct of those who recv trt get it for alc"
   ]
  },
  {
   "cell_type": "code",
   "execution_count": 79,
   "metadata": {
    "collapsed": false
   },
   "outputs": [
    {
     "data": {
      "text/plain": [
       "1    0.667915\n",
       "0    0.332085\n",
       "Name: ILLTRMT, dtype: float64"
      ]
     },
     "execution_count": 79,
     "metadata": {},
     "output_type": "execute_result"
    },
    {
     "data": {
      "image/png": "[encoded data removed]",
      "text/plain": [
       "<matplotlib.figure.Figure at 0xb7c73c8>"
      ]
     },
     "metadata": {},
     "output_type": "display_data"
    }
   ],
   "source": [
    "recv_sub.ILLTRMT.hist()\n",
    "recv_sub.ILLTRMT.value_counts()/recv_sub.ILLTRMT.count()\n",
    "#67 pct of those who recv trt get it for illicit drug use"
   ]
  },
  {
   "cell_type": "code",
   "execution_count": 80,
   "metadata": {
    "collapsed": false
   },
   "outputs": [
    {
     "data": {
      "text/plain": [
       "0    0.776529\n",
       "1    0.223471\n",
       "Name: TXGPILAL, dtype: float64"
      ]
     },
     "execution_count": 80,
     "metadata": {},
     "output_type": "execute_result"
    },
    {
     "data": {
      "image/png": "[encoded data removed]",
      "text/plain": [
       "<matplotlib.figure.Figure at 0xb8f2240>"
      ]
     },
     "metadata": {},
     "output_type": "display_data"
    }
   ],
   "source": [
    "recv_sub.TXGPILAL.hist()\n",
    "recv_sub.TXGPILAL.value_counts()/recv_sub.TXGPILAL.count()\n",
    "#22 pct of those who recv trt don't get it at a specialty facility"
   ]
  },
  {
   "cell_type": "code",
   "execution_count": 81,
   "metadata": {
    "collapsed": false
   },
   "outputs": [
    {
     "data": {
      "text/plain": [
       "0    0.536829\n",
       "1    0.463171\n",
       "Name: GOVTPROG, dtype: float64"
      ]
     },
     "execution_count": 81,
     "metadata": {},
     "output_type": "execute_result"
    },
    {
     "data": {
      "image/png": "[encoded data removed]",
      "text/plain": [
       "<matplotlib.figure.Figure at 0xb925ac8>"
      ]
     },
     "metadata": {},
     "output_type": "display_data"
    }
   ],
   "source": [
    "recv_sub.GOVTPROG.hist()\n",
    "recv_sub.GOVTPROG.value_counts()/recv_sub.GOVTPROG.count()"
   ]
  },
  {
   "cell_type": "code",
   "execution_count": 82,
   "metadata": {
    "collapsed": false
   },
   "outputs": [
    {
     "data": {
      "text/plain": [
       "0    0.74125\n",
       "1    0.25875\n",
       "Name: GOVTPROG, dtype: float64"
      ]
     },
     "execution_count": 82,
     "metadata": {},
     "output_type": "execute_result"
    },
    {
     "data": {
      "image/png": "[encoded data removed]",
      "text/plain": [
       "<matplotlib.figure.Figure at 0xba1a0b8>"
      ]
     },
     "metadata": {},
     "output_type": "display_data"
    }
   ],
   "source": [
    "no_sub.GOVTPROG.hist()\n",
    "no_sub.GOVTPROG.value_counts()/no_sub.GOVTPROG.count()"
   ]
  },
  {
   "cell_type": "code",
   "execution_count": null,
   "metadata": {
    "collapsed": true
   },
   "outputs": [],
   "source": []
  },
  {
   "cell_type": "code",
   "execution_count": null,
   "metadata": {
    "collapsed": true
   },
   "outputs": [],
   "source": []
  }
 ],
 "metadata": {
  "kernelspec": {
   "display_name": "Python 3",
   "language": "python",
   "name": "python3"
  },
  "language_info": {
   "codemirror_mode": {
    "name": "ipython",
    "version": 3
   },
   "file_extension": ".py",
   "mimetype": "text/x-python",
   "name": "python",
   "nbconvert_exporter": "python",
   "pygments_lexer": "ipython3",
   "version": "3.5.1"
  }
 },
 "nbformat": 4,
 "nbformat_minor": 0
}

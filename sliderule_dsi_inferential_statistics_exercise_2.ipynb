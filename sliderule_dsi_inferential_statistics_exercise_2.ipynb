{
 "cells": [
  {
   "cell_type": "markdown",
   "metadata": {},
   "source": [
    "\n",
    "### Examining racial discrimination in the US job market\n",
    "\n",
    "#### Background\n",
    "Racial discrimination continues to be pervasive in cultures throughout the world. Researchers examined the level of racial discrimination in the United States labor market by randomly assigning identical résumés black-sounding or white-sounding names and observing the impact on requests for interviews from employers.\n",
    "\n",
    "#### Data\n",
    "In the dataset provided, each row represents a resume. The 'race' column has two values, 'b' and 'w', indicating black-sounding and white-sounding. The column 'call' has two values, 1 and 0, indicating whether the resume received a call from employers or not.\n",
    "\n",
    "Note that the 'b' and 'w' values in race are assigned randomly to the resumes.\n",
    "\n",
    "#### Exercise\n",
    "You will perform a statistical analysis to establish whether race has a significant impact on the rate of callbacks for resumes.\n",
    "\n",
    "Answer the following questions **in this notebook below and submit to your Github account**. \n",
    "\n",
    "   1. What test is appropriate for this problem? Does CLT apply?\n",
    "   2. What are the null and alternate hypotheses?\n",
    "   3. Compute margin of error, confidence interval, and p-value.\n",
    "   4. Discuss statistical significance.\n",
    "\n",
    "You can include written notes in notebook cells using Markdown: \n",
    "   - In the control panel at the top, choose Cell > Cell Type > Markdown\n",
    "   - Markdown syntax: http://nestacms.com/docs/creating-content/markdown-cheat-sheet\n",
    "\n",
    "\n",
    "#### Resources\n",
    "+ Experiment information and data source: http://www.povertyactionlab.org/evaluation/discrimination-job-market-united-states\n",
    "+ Scipy statistical methods: http://docs.scipy.org/doc/scipy/reference/stats.html \n",
    "+ Markdown syntax: http://nestacms.com/docs/creating-content/markdown-cheat-sheet\n",
    "\n",
    "****"
   ]
  },
  {
   "cell_type": "code",
   "execution_count": 55,
   "metadata": {
    "collapsed": true
   },
   "outputs": [],
   "source": [
    "import pandas as pd\n",
    "import numpy as np\n",
    "from scipy import stats as st"
   ]
  },
  {
   "cell_type": "code",
   "execution_count": 2,
   "metadata": {
    "collapsed": false
   },
   "outputs": [],
   "source": [
    "data = pd.io.stata.read_stata('data/us_job_market_discrimination.dta')"
   ]
  },
  {
   "cell_type": "code",
   "execution_count": 3,
   "metadata": {
    "collapsed": false
   },
   "outputs": [
    {
     "data": {
      "text/plain": [
       "157.0"
      ]
     },
     "execution_count": 3,
     "metadata": {},
     "output_type": "execute_result"
    }
   ],
   "source": [
    "# number of callbacks for black-sounding names\n",
    "sum(data[data.race=='b'].call)"
   ]
  },
  {
   "cell_type": "code",
   "execution_count": 47,
   "metadata": {
    "collapsed": false
   },
   "outputs": [
    {
     "data": {
      "text/plain": [
       "2435"
      ]
     },
     "execution_count": 47,
     "metadata": {},
     "output_type": "execute_result"
    }
   ],
   "source": [
    "#We are going to compare the average callback rate for black applicants with the average callback rate for white applicants\n",
    "#The Central Limit theorem applies here, as each group has n=2435>30\n",
    "#The test we are performing is a Two Sample proportion comparison test using the Z test statistic\n",
    "black = data[data.race =='b']\n",
    "white = data[data.race =='w']\n",
    "n1 = len(white)\n",
    "n2 = len(black)\n",
    "n1"
   ]
  },
  {
   "cell_type": "code",
   "execution_count": 43,
   "metadata": {
    "collapsed": false
   },
   "outputs": [],
   "source": [
    "#Null Hypothesis: The proportion of black applicants who received callbacks = proportion of white applicants who received callbacks\n",
    "# (p1 - p2 = 0)\n",
    "#Alt Hypothesis: The proportion of black applicants who received callbacks != proportion of white applicants who received callbacks\n",
    "# (p1 - p2 != 0)\n",
    "p2 = (black.call).mean()\n",
    "#157/2435 == 0.0645 == 6.45%"
   ]
  },
  {
   "cell_type": "code",
   "execution_count": 44,
   "metadata": {
    "collapsed": false
   },
   "outputs": [],
   "source": [
    "p1 = (white.call).mean()\n",
    "#235/2435 == 0.0965 == 9.65%"
   ]
  },
  {
   "cell_type": "code",
   "execution_count": 46,
   "metadata": {
    "collapsed": false
   },
   "outputs": [
    {
     "data": {
      "text/plain": [
       "0.08049281314168377"
      ]
     },
     "execution_count": 46,
     "metadata": {},
     "output_type": "execute_result"
    }
   ],
   "source": [
    "#difference in proportions: white - black = 0.0965 - 0.0645 = 0.032\n",
    "d = p1 - p2\n",
    "#P is pooled successes over total n\n",
    "P = (157 + 235)/(2435 + 2435)\n",
    "P"
   ]
  },
  {
   "cell_type": "code",
   "execution_count": 50,
   "metadata": {
    "collapsed": false
   },
   "outputs": [
    {
     "data": {
      "text/plain": [
       "4.1084122352384718"
      ]
     },
     "execution_count": 50,
     "metadata": {},
     "output_type": "execute_result"
    }
   ],
   "source": [
    "#Z test statistic forumla for two proportion test\n",
    "Z = (d - 0) / np.sqrt((P)*(1-P)*((1/n1)+(1/n2)))\n",
    "Z"
   ]
  },
  {
   "cell_type": "code",
   "execution_count": 61,
   "metadata": {
    "collapsed": false
   },
   "outputs": [
    {
     "data": {
      "text/plain": [
       "3.9838854094975673e-05"
      ]
     },
     "execution_count": 61,
     "metadata": {},
     "output_type": "execute_result"
    }
   ],
   "source": [
    "#We are performing a two sided proportion Z test, so I solved for the area under the cdf to the right of Z, times 2 for both tails\n",
    "pval = (1 - st.norm.cdf(Z)) *2\n",
    "pval\n",
    "#pval = .000039839 < .01 < .05\n",
    "#Therefore, we reject the null hypothesis that the proportion of black applicants who received callbacks is equal to the\n",
    "#proportion of white applicants who received callbacks, and conclude that the true proportion of applicants who are called back\n",
    "#is different for black and white applicants"
   ]
  },
  {
   "cell_type": "code",
   "execution_count": 72,
   "metadata": {
    "collapsed": false
   },
   "outputs": [
    {
     "data": {
      "text/plain": [
       "0.015281912310894095"
      ]
     },
     "execution_count": 72,
     "metadata": {},
     "output_type": "execute_result"
    }
   ],
   "source": [
    "#I will also construct a 95% confidence interval for the difference between callback rate of white and black applicants\n",
    "SE = np.sqrt((P)*(1-P)*((1/n1)+(1/n2)))\n",
    "#This is formula for non-pooled \n",
    "#SE = np.sqrt((p1*(1-p1))/n1 + (p2*(1-p2))/n2)\n",
    "SE\n",
    "#In this situation, we should continue to use the pooled standard error becuase H0: p1-p2 = 0\n",
    "#Either way, the difference in this case is negligible(no change in first 4 decimal places)\n",
    "ME = SE*1.96\n",
    "ME"
   ]
  },
  {
   "cell_type": "code",
   "execution_count": 75,
   "metadata": {
    "collapsed": false
   },
   "outputs": [
    {
     "data": {
      "text/html": [
       "<div>\n",
       "<table border=\"1\" class=\"dataframe\">\n",
       "  <thead>\n",
       "    <tr style=\"text-align: right;\">\n",
       "      <th></th>\n",
       "      <th>95% Confidence Interval for Difference in Callback Rates</th>\n",
       "    </tr>\n",
       "  </thead>\n",
       "  <tbody>\n",
       "    <tr>\n",
       "      <th>Lower Limit</th>\n",
       "      <td>0.016751</td>\n",
       "    </tr>\n",
       "    <tr>\n",
       "      <th>Upper Limit</th>\n",
       "      <td>0.047315</td>\n",
       "    </tr>\n",
       "  </tbody>\n",
       "</table>\n",
       "</div>"
      ],
      "text/plain": [
       "             95% Confidence Interval for Difference in Callback Rates\n",
       "Lower Limit                                           0.016751       \n",
       "Upper Limit                                           0.047315       "
      ]
     },
     "execution_count": 75,
     "metadata": {},
     "output_type": "execute_result"
    }
   ],
   "source": [
    "pd.DataFrame([d-ME,d+ME], index=['Lower Limit','Upper Limit'], columns = [\"95% Confidence Interval for Difference in Callback Rates\"])"
   ]
  },
  {
   "cell_type": "code",
   "execution_count": null,
   "metadata": {
    "collapsed": true
   },
   "outputs": [],
   "source": [
    "#The above confidence interval shows us that the difference between the two sample proportions would fall within 0.016751 and 0.047315\n",
    "#in 95% of replicated trials of this hypothesis test. Because 0 is not in this interval, we would expect replicated trials to find\n",
    "#that there is a difference between the proportion of callbacks for black and white applicants."
   ]
  }
 ],
 "metadata": {
  "kernelspec": {
   "display_name": "Python 3",
   "language": "python",
   "name": "python3"
  },
  "language_info": {
   "codemirror_mode": {
    "name": "ipython",
    "version": 3
   },
   "file_extension": ".py",
   "mimetype": "text/x-python",
   "name": "python",
   "nbconvert_exporter": "python",
   "pygments_lexer": "ipython3",
   "version": "3.5.1"
  }
 },
 "nbformat": 4,
 "nbformat_minor": 0
}

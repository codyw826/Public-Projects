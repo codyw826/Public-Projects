{
 "cells": [
  {
   "cell_type": "code",
   "execution_count": 1,
   "metadata": {
    "collapsed": true
   },
   "outputs": [],
   "source": [
    "#Python Notebook for Exploratory Analysis on NSDUH dataset\n",
    "%matplotlib inline\n",
    "import pandas as pd\n",
    "import numpy as np"
   ]
  },
  {
   "cell_type": "code",
   "execution_count": 2,
   "metadata": {
    "collapsed": false
   },
   "outputs": [],
   "source": [
    "#from IPython.core.display import HTML\n",
    "#css = open('style-table.css').read() + open('style-notebook.css').read()\n",
    "#HTML('<style>{}</style>'.format(css))"
   ]
  },
  {
   "cell_type": "code",
   "execution_count": 3,
   "metadata": {
    "collapsed": false
   },
   "outputs": [],
   "source": [
    "import csv\n",
    "NS14 = pd.read_csv('C:/Users/Cody/Downloads/NSDUH/2014/NSDUH-2014-DS0001-data/NSDUH-2014-DS0001-data-excel.tsv', sep='\\t', index_col=0)\n",
    "#single out the imputation revised recency of drug use columns"
   ]
  },
  {
   "cell_type": "code",
   "execution_count": 4,
   "metadata": {
    "collapsed": false
   },
   "outputs": [],
   "source": [
    "DrugRecency = NS14[['IRCIGRC','IRCGRRC','IRALCRC','IRMJRC','IRCOCRC','IRCRKRC',\n",
    "                   'IRHERRC','IRHALRC','IRINHRC','IRANLRC','IROXYRC','IRTRNRC',\n",
    "                   'IRSTMRC','IRSEDRC']]\n",
    "#For these vars, 9 is never used, 4 is more than 3 years ago, 3 is 12 months ago+, \n",
    "#2 is 30days-12months ago, 1 is past 30 days\n",
    "sample = DrugRecency.head()"
   ]
  },
  {
   "cell_type": "code",
   "execution_count": 5,
   "metadata": {
    "collapsed": false
   },
   "outputs": [
    {
     "data": {
      "text/plain": [
       "IRCIGRC    4\n",
       "IRCGRRC    9\n",
       "IRALCRC    3\n",
       "IRMJRC     9\n",
       "IRCOCRC    9\n",
       "IRCRKRC    9\n",
       "IRHERRC    9\n",
       "IRHALRC    9\n",
       "IRINHRC    9\n",
       "IRANLRC    9\n",
       "IROXYRC    9\n",
       "IRTRNRC    9\n",
       "IRSTMRC    9\n",
       "IRSEDRC    9\n",
       "Name: 1, dtype: int64"
      ]
     },
     "execution_count": 5,
     "metadata": {},
     "output_type": "execute_result"
    }
   ],
   "source": [
    "sample.loc[1,:]"
   ]
  },
  {
   "cell_type": "markdown",
   "metadata": {},
   "source": []
  },
  {
   "cell_type": "code",
   "execution_count": null,
   "metadata": {
    "collapsed": false
   },
   "outputs": [],
   "source": []
  },
  {
   "cell_type": "code",
   "execution_count": null,
   "metadata": {
    "collapsed": false
   },
   "outputs": [
    {
     "name": "stderr",
     "output_type": "stream",
     "text": [
      "C:\\Users\\Cody\\Anaconda3\\lib\\site-packages\\pandas\\core\\indexing.py:461: SettingWithCopyWarning: \n",
      "A value is trying to be set on a copy of a slice from a DataFrame.\n",
      "Try using .loc[row_indexer,col_indexer] = value instead\n",
      "\n",
      "See the caveats in the documentation: http://pandas.pydata.org/pandas-docs/stable/indexing.html#indexing-view-versus-copy\n",
      "  self.obj[item] = s\n",
      "C:\\Users\\Cody\\Anaconda3\\lib\\site-packages\\pandas\\core\\indexing.py:128: SettingWithCopyWarning: \n",
      "A value is trying to be set on a copy of a slice from a DataFrame\n",
      "\n",
      "See the caveats in the documentation: http://pandas.pydata.org/pandas-docs/stable/indexing.html#indexing-view-versus-copy\n",
      "  self._setitem_with_indexer(indexer, value)\n",
      "C:\\Users\\Cody\\Anaconda3\\lib\\site-packages\\ipykernel\\__main__.py:9: SettingWithCopyWarning: \n",
      "A value is trying to be set on a copy of a slice from a DataFrame\n",
      "\n",
      "See the caveats in the documentation: http://pandas.pydata.org/pandas-docs/stable/indexing.html#indexing-view-versus-copy\n"
     ]
    },
    {
     "data": {
      "text/html": [
       "<div>\n",
       "<table border=\"1\" class=\"dataframe\">\n",
       "  <thead>\n",
       "    <tr style=\"text-align: right;\">\n",
       "      <th></th>\n",
       "      <th>IRCIGRC</th>\n",
       "      <th>IRCGRRC</th>\n",
       "      <th>IRALCRC</th>\n",
       "      <th>IRMJRC</th>\n",
       "      <th>IRCOCRC</th>\n",
       "      <th>IRCRKRC</th>\n",
       "      <th>IRHERRC</th>\n",
       "      <th>IRHALRC</th>\n",
       "      <th>IRINHRC</th>\n",
       "      <th>IRANLRC</th>\n",
       "      <th>IROXYRC</th>\n",
       "      <th>IRTRNRC</th>\n",
       "      <th>IRSTMRC</th>\n",
       "      <th>IRSEDRC</th>\n",
       "    </tr>\n",
       "    <tr>\n",
       "      <th>CASEID</th>\n",
       "      <th></th>\n",
       "      <th></th>\n",
       "      <th></th>\n",
       "      <th></th>\n",
       "      <th></th>\n",
       "      <th></th>\n",
       "      <th></th>\n",
       "      <th></th>\n",
       "      <th></th>\n",
       "      <th></th>\n",
       "      <th></th>\n",
       "      <th></th>\n",
       "      <th></th>\n",
       "      <th></th>\n",
       "    </tr>\n",
       "  </thead>\n",
       "  <tbody>\n",
       "    <tr>\n",
       "      <th>1</th>\n",
       "      <td>4.0</td>\n",
       "      <td>NaN</td>\n",
       "      <td>3.0</td>\n",
       "      <td>NaN</td>\n",
       "      <td>NaN</td>\n",
       "      <td>NaN</td>\n",
       "      <td>NaN</td>\n",
       "      <td>NaN</td>\n",
       "      <td>NaN</td>\n",
       "      <td>NaN</td>\n",
       "      <td>NaN</td>\n",
       "      <td>NaN</td>\n",
       "      <td>NaN</td>\n",
       "      <td>NaN</td>\n",
       "    </tr>\n",
       "    <tr>\n",
       "      <th>2</th>\n",
       "      <td>1.0</td>\n",
       "      <td>2.0</td>\n",
       "      <td>1.0</td>\n",
       "      <td>1.0</td>\n",
       "      <td>NaN</td>\n",
       "      <td>NaN</td>\n",
       "      <td>NaN</td>\n",
       "      <td>NaN</td>\n",
       "      <td>NaN</td>\n",
       "      <td>NaN</td>\n",
       "      <td>NaN</td>\n",
       "      <td>NaN</td>\n",
       "      <td>NaN</td>\n",
       "      <td>NaN</td>\n",
       "    </tr>\n",
       "    <tr>\n",
       "      <th>3</th>\n",
       "      <td>NaN</td>\n",
       "      <td>NaN</td>\n",
       "      <td>3.0</td>\n",
       "      <td>NaN</td>\n",
       "      <td>NaN</td>\n",
       "      <td>NaN</td>\n",
       "      <td>NaN</td>\n",
       "      <td>NaN</td>\n",
       "      <td>NaN</td>\n",
       "      <td>NaN</td>\n",
       "      <td>NaN</td>\n",
       "      <td>NaN</td>\n",
       "      <td>3.0</td>\n",
       "      <td>NaN</td>\n",
       "    </tr>\n",
       "    <tr>\n",
       "      <th>4</th>\n",
       "      <td>NaN</td>\n",
       "      <td>NaN</td>\n",
       "      <td>1.0</td>\n",
       "      <td>3.0</td>\n",
       "      <td>NaN</td>\n",
       "      <td>NaN</td>\n",
       "      <td>NaN</td>\n",
       "      <td>NaN</td>\n",
       "      <td>NaN</td>\n",
       "      <td>NaN</td>\n",
       "      <td>NaN</td>\n",
       "      <td>NaN</td>\n",
       "      <td>NaN</td>\n",
       "      <td>NaN</td>\n",
       "    </tr>\n",
       "    <tr>\n",
       "      <th>5</th>\n",
       "      <td>NaN</td>\n",
       "      <td>NaN</td>\n",
       "      <td>NaN</td>\n",
       "      <td>NaN</td>\n",
       "      <td>NaN</td>\n",
       "      <td>NaN</td>\n",
       "      <td>NaN</td>\n",
       "      <td>NaN</td>\n",
       "      <td>NaN</td>\n",
       "      <td>NaN</td>\n",
       "      <td>NaN</td>\n",
       "      <td>NaN</td>\n",
       "      <td>NaN</td>\n",
       "      <td>NaN</td>\n",
       "    </tr>\n",
       "  </tbody>\n",
       "</table>\n",
       "</div>"
      ],
      "text/plain": [
       "        IRCIGRC  IRCGRRC  IRALCRC  IRMJRC  IRCOCRC  IRCRKRC  IRHERRC  IRHALRC  \\\n",
       "CASEID                                                                          \n",
       "1           4.0      NaN      3.0     NaN      NaN      NaN      NaN      NaN   \n",
       "2           1.0      2.0      1.0     1.0      NaN      NaN      NaN      NaN   \n",
       "3           NaN      NaN      3.0     NaN      NaN      NaN      NaN      NaN   \n",
       "4           NaN      NaN      1.0     3.0      NaN      NaN      NaN      NaN   \n",
       "5           NaN      NaN      NaN     NaN      NaN      NaN      NaN      NaN   \n",
       "\n",
       "        IRINHRC  IRANLRC  IROXYRC  IRTRNRC  IRSTMRC  IRSEDRC  \n",
       "CASEID                                                        \n",
       "1           NaN      NaN      NaN      NaN      NaN      NaN  \n",
       "2           NaN      NaN      NaN      NaN      NaN      NaN  \n",
       "3           NaN      NaN      NaN      NaN      3.0      NaN  \n",
       "4           NaN      NaN      NaN      NaN      NaN      NaN  \n",
       "5           NaN      NaN      NaN      NaN      NaN      NaN  "
      ]
     },
     "execution_count": 6,
     "metadata": {},
     "output_type": "execute_result"
    }
   ],
   "source": [
    "#this is how I will need to iterate through a dataframe to replace values with N/A\n",
    "for i in range(len(sample)+1):\n",
    "    if i == 0:\n",
    "        continue\n",
    "    for j in ['IRCIGRC','IRCGRRC','IRALCRC','IRMJRC','IRCOCRC','IRCRKRC',\n",
    "                   'IRHERRC','IRHALRC','IRINHRC','IRANLRC','IROXYRC','IRTRNRC',\n",
    "                   'IRSTMRC','IRSEDRC'] :\n",
    "        if sample.loc[i,j] == 9 :\n",
    "            sample.loc[i,j] = np.nan    \n",
    "#    if sample.loc[i,'IRCIGRC'] == 9 :\n",
    "#           sample.loc[i,'IRCIGRC'] = np.nan\n",
    "#  if sample.loc[i,'IRCGRRC'] == 9 :\n",
    "#            sample.loc[i,'IRCGRRC'] = np.nan        \n",
    "\n",
    "sample\n",
    "\n",
    "#It will be very important for me to test my code on small portions of the dataset\n",
    "#The above double loop is practically immediate for the sample, but could take minutes\n",
    "#when used for the thousands of rows"
   ]
  },
  {
   "cell_type": "code",
   "execution_count": null,
   "metadata": {
    "collapsed": false
   },
   "outputs": [
    {
     "name": "stderr",
     "output_type": "stream",
     "text": [
      "C:\\Users\\Cody\\Anaconda3\\lib\\site-packages\\pandas\\core\\indexing.py:461: SettingWithCopyWarning: \n",
      "A value is trying to be set on a copy of a slice from a DataFrame.\n",
      "Try using .loc[row_indexer,col_indexer] = value instead\n",
      "\n",
      "See the caveats in the documentation: http://pandas.pydata.org/pandas-docs/stable/indexing.html#indexing-view-versus-copy\n",
      "  self.obj[item] = s\n",
      "C:\\Users\\Cody\\Anaconda3\\lib\\site-packages\\pandas\\core\\indexing.py:128: SettingWithCopyWarning: \n",
      "A value is trying to be set on a copy of a slice from a DataFrame\n",
      "\n",
      "See the caveats in the documentation: http://pandas.pydata.org/pandas-docs/stable/indexing.html#indexing-view-versus-copy\n",
      "  self._setitem_with_indexer(indexer, value)\n",
      "C:\\Users\\Cody\\Anaconda3\\lib\\site-packages\\ipykernel\\__main__.py:8: SettingWithCopyWarning: \n",
      "A value is trying to be set on a copy of a slice from a DataFrame\n",
      "\n",
      "See the caveats in the documentation: http://pandas.pydata.org/pandas-docs/stable/indexing.html#indexing-view-versus-copy\n"
     ]
    }
   ],
   "source": [
    "for i in range(len(DrugRecency)+1):\n",
    "    if i == 0:\n",
    "        continue\n",
    "    for j in ['IRCIGRC','IRCGRRC','IRALCRC','IRMJRC','IRCOCRC','IRCRKRC',\n",
    "                   'IRHERRC','IRHALRC','IRINHRC','IRANLRC','IROXYRC','IRTRNRC',\n",
    "                   'IRSTMRC','IRSEDRC'] :\n",
    "        if DrugRecency.loc[i,j] == 9 :\n",
    "            DrugRecency.loc[i,j] = np.nan  \n",
    "DrugRecency.tail()"
   ]
  },
  {
   "cell_type": "code",
   "execution_count": null,
   "metadata": {
    "collapsed": true
   },
   "outputs": [],
   "source": [
    "DrugRecency.IRCIGRC"
   ]
  },
  {
   "cell_type": "code",
   "execution_count": null,
   "metadata": {
    "collapsed": true
   },
   "outputs": [],
   "source": []
  },
  {
   "cell_type": "code",
   "execution_count": null,
   "metadata": {
    "collapsed": true
   },
   "outputs": [],
   "source": []
  },
  {
   "cell_type": "code",
   "execution_count": null,
   "metadata": {
    "collapsed": true
   },
   "outputs": [],
   "source": []
  },
  {
   "cell_type": "code",
   "execution_count": null,
   "metadata": {
    "collapsed": true
   },
   "outputs": [],
   "source": []
  },
  {
   "cell_type": "code",
   "execution_count": null,
   "metadata": {
    "collapsed": true
   },
   "outputs": [],
   "source": []
  }
 ],
 "metadata": {
  "kernelspec": {
   "display_name": "Python 3",
   "language": "python",
   "name": "python3"
  },
  "language_info": {
   "codemirror_mode": {
    "name": "ipython",
    "version": 3
   },
   "file_extension": ".py",
   "mimetype": "text/x-python",
   "name": "python",
   "nbconvert_exporter": "python",
   "pygments_lexer": "ipython3",
   "version": "3.5.1"
  }
 },
 "nbformat": 4,
 "nbformat_minor": 0
}
